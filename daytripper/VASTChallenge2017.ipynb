{
 "cells": [
  {
   "cell_type": "markdown",
   "metadata": {},
   "source": [
    "<h1>VAST Challenge 2017</h1>"
   ]
  },
  {
   "cell_type": "markdown",
   "metadata": {},
   "source": [
    "<h2><i>Mini Challenge 1</i></h2>"
   ]
  },
  {
   "cell_type": "markdown",
   "metadata": {},
   "source": [
    "<br />"
   ]
  },
  {
   "cell_type": "markdown",
   "metadata": {},
   "source": [
    "<h3>1. <u>Introduction</u></h3>"
   ]
  },
  {
   "cell_type": "markdown",
   "metadata": {},
   "source": [
    "<p>At this present work we present our solution for the first challenge proposed at the 2017 VAST Challenge, where contestants, using visual analytics tools, are expected to find patterns in the data of the vehicle traffic of the ficticious Boonsong Lekagul Nature Preserve and relate them with the decline in the Rose-crested Blue Pipit bird species population at the park.</p>"
   ]
  },
  {
   "cell_type": "markdown",
   "metadata": {},
   "source": [
    "<p>The mini-challenge encourages the participants to use visual analytics to identify repeating patterns of vehicles transiting the park and classify the most supicious ones among then, regarding to threatening the native species. To facilitate this task, the park provides us with traffic data containing an identification for each vehicle, the vehicle type and timestamps collected by the many sensors spreaded in the parks installations. Besides that, a simplified map of the park with the sensors locations is also provided.</p>"
   ]
  },
  {
   "cell_type": "markdown",
   "metadata": {},
   "source": [
    "<p>Our approach to the problem was to first make an exploratory data analysis of the dataset to raise starting points for the problem investigation and then, afterwards, dive into these hypothesis, testing them with visual analytics tools.</p>"
   ]
  },
  {
   "cell_type": "markdown",
   "metadata": {},
   "source": [
    "<p>To deal with the data and the plottings, our team choose to use Python 3 and some really useful packages that would make our work easier. In this document, created using <a href=\"http://jupyter.org/\">Jupyter Notebook</a>, we provide both the source code and the execution output in hope that the understanding of the methodology used is clearer to our reader. All the visualizations created are also displayed inline.</p>"
   ]
  },
  {
   "cell_type": "code",
   "execution_count": 1,
   "metadata": {
    "collapsed": true
   },
   "outputs": [],
   "source": [
    "%matplotlib inline"
   ]
  },
  {
   "cell_type": "markdown",
   "metadata": {},
   "source": [
    "<p>In this article we will be presenting our step-by-step investigations, including the raised hipothesis, the visualization choices to explore it, the code and the analysis, all along this beautiful notebook. We hope you're going to enjoy it.</p>\n"
   ]
  },
  {
   "cell_type": "markdown",
   "metadata": {},
   "source": [
    "<p>All the project code is released under MIT License and is free for use and redistribution. Attribution is apreciated but not required. More information can be found at the project <a href=\"http://github.com/dmrib/daytripper\">repository</a>.</p>"
   ]
  },
  {
   "cell_type": "markdown",
   "metadata": {},
   "source": [
    "<h3>2. <u>Tools</u></h3>"
   ]
  },
  {
   "cell_type": "markdown",
   "metadata": {},
   "source": [
    "<p>The project code was written using Python 3, due to the great productivity obteained in the handling with the data and because of the possibility of using the same language for data munging and to create visualizations. Some non-native packages were also used:</p>"
   ]
  },
  {
   "cell_type": "markdown",
   "metadata": {},
   "source": [
    "<ul>\n",
    "    <li>numpy</li>\n",
    "<ul>"
   ]
  },
  {
   "cell_type": "markdown",
   "metadata": {},
   "source": [
    "<p>NumPy is the fundamental package for scientific computing with Python. It contains among other things a powerful N-dimensional array object,\n",
    "sophisticated (broadcasting) functions, tools for integrating C/C++ and Fortran code, useful linear algebra, Fourier transform, and random number capabilities.</p>"
   ]
  },
  {
   "cell_type": "code",
   "execution_count": 2,
   "metadata": {
    "collapsed": true
   },
   "outputs": [],
   "source": [
    "import numpy as np"
   ]
  },
  {
   "cell_type": "markdown",
   "metadata": {},
   "source": [
    "<ul>\n",
    "    <li>pandas</li>\n",
    "<ul>"
   ]
  },
  {
   "cell_type": "markdown",
   "metadata": {},
   "source": [
    "<p><i>pandas</i> is an open source, BSD-licensed library providing high-performance, easy-to-use data structures and data analysis tools for the Python programming language.</p>"
   ]
  },
  {
   "cell_type": "code",
   "execution_count": 3,
   "metadata": {
    "collapsed": true
   },
   "outputs": [],
   "source": [
    "import pandas as pd"
   ]
  },
  {
   "cell_type": "markdown",
   "metadata": {},
   "source": [
    "<ul>\n",
    "    <li>matplotlib</li>\n",
    "</ul>"
   ]
  },
  {
   "cell_type": "markdown",
   "metadata": {},
   "source": [
    "<p>Matplotlib is a Python 2D plotting library which produces publication quality figures in a variety of hardcopy formats and interactive environments across platforms. Matplotlib can be used in Python scripts, the Python and IPython shell, the jupyter notebook, web application servers, and graphical user interface toolkits.</p>"
   ]
  },
  {
   "cell_type": "code",
   "execution_count": 30,
   "metadata": {
    "collapsed": true
   },
   "outputs": [],
   "source": [
    "import matplotlib.pyplot as plt\n",
    "import matplotlib.image as mpimg"
   ]
  },
  {
   "cell_type": "markdown",
   "metadata": {},
   "source": [
    "<ul>\n",
    "    <li>seaborn</li>\n",
    "</ul>"
   ]
  },
  {
   "cell_type": "markdown",
   "metadata": {},
   "source": [
    "<p>Seaborn is a Python visualization library based on matplotlib. It provides a high-level interface for drawing attractive statistical graphics.</p>"
   ]
  },
  {
   "cell_type": "code",
   "execution_count": 5,
   "metadata": {
    "collapsed": true
   },
   "outputs": [],
   "source": [
    "import seaborn as sns\n",
    "\n",
    "sns.set_style('whitegrid')"
   ]
  },
  {
   "cell_type": "markdown",
   "metadata": {},
   "source": [
    "<ul>\n",
    "    <li>graphviz</li>\n",
    "</ul>"
   ]
  },
  {
   "cell_type": "markdown",
   "metadata": {},
   "source": [
    "<p>Graphviz is open source graph visualization software. Graph visualization is a way of representing structural information as diagrams of abstract graphs and networks. It has important applications in networking, bioinformatics,  software engineering, database and web design, machine learning, and in visual interfaces for other technical domains. </p>"
   ]
  },
  {
   "cell_type": "code",
   "execution_count": 6,
   "metadata": {
    "collapsed": true
   },
   "outputs": [],
   "source": [
    "import graphviz"
   ]
  },
  {
   "cell_type": "markdown",
   "metadata": {},
   "source": [
    "<h3>3. <u>Loading Data</u></h3>"
   ]
  },
  {
   "cell_type": "markdown",
   "metadata": {},
   "source": [
    "<p>We start our work by loading the data using the <i>pandas</i> module.</p>"
   ]
  },
  {
   "cell_type": "markdown",
   "metadata": {},
   "source": [
    "<p>The timestamps are converted to Python timestamps format to make the time operations easier afterwards.</p>"
   ]
  },
  {
   "cell_type": "code",
   "execution_count": 7,
   "metadata": {
    "collapsed": true
   },
   "outputs": [],
   "source": [
    "raw_dataset = pd.read_csv('../data/Lekagul Sensor Data.csv', parse_dates=[\"Timestamp\"],\n",
    "                      date_parser=lambda x: pd.datetime.strptime(x, \"%Y-%m-%d %H:%M:%S\"))"
   ]
  },
  {
   "cell_type": "markdown",
   "metadata": {},
   "source": [
    "<h3>4. Traffic distribution analysis</h3>"
   ]
  },
  {
   "cell_type": "markdown",
   "metadata": {},
   "source": [
    "<p>Before jumping into conclusions, our team decided that having an overview of the dataset and their most relevant traits would be useful to direct our questioning process to the more evident trends in data.</p>"
   ]
  },
  {
   "cell_type": "markdown",
   "metadata": {},
   "source": [
    "<p>Initially we're going to visualize the occurence of each car-type in every sensor. At this moment, we are not discriminating the different sensor types. Here we shall have a general perspective of how the car flow distribution by car type looks like. This approach shall give us our first general insight about the dataset.</p>"
   ]
  },
  {
   "cell_type": "code",
   "execution_count": 19,
   "metadata": {},
   "outputs": [
    {
     "data": {
      "image/png": "[encoded data removed]",
      "text/plain": [
       "<matplotlib.figure.Figure at 0x1f5514eb5c0>"
      ]
     },
     "metadata": {},
     "output_type": "display_data"
    }
   ],
   "source": [
    "counts = raw_dataset.groupby(\"car-type\").count().sort_values(by='Timestamp', ascending=False)\n",
    "\n",
    "fig = sns.barplot(data=counts, x='car-id', y=counts.index)\n",
    "fig.set(xlabel='Traffic Volume', ylabel='Car Type')\n",
    "sns.plt.title('Traffic Volume Distribution By Car Type')\n",
    "\n",
    "\n",
    "plt.show()"
   ]
  },
  {
   "cell_type": "markdown",
   "metadata": {},
   "source": [
    "<p>To complement this visualization, we will visualize also how many cars have crossed each sensor, this time, not discrimining different car-types.</p>"
   ]
  },
  {
   "cell_type": "code",
   "execution_count": 20,
   "metadata": {},
   "outputs": [
    {
     "data": {
      "image/png": "[encoded data removed]",
      "text/plain": [
       "<matplotlib.figure.Figure at 0x1f5511e3278>"
      ]
     },
     "metadata": {},
     "output_type": "display_data"
    }
   ],
   "source": [
    "counts = raw_dataset.groupby(\"gate-name\").count().sort_values(by='Timestamp', ascending=False)\n",
    "\n",
    "fig = sns.barplot(data=counts, x='car-id', y=counts.index)\n",
    "fig.set(xlabel='Traffic Volume', ylabel='Gate Name')\n",
    "sns.plt.title('Number of Events Ocurrences By Sensor')\n",
    "fig.figure.set_size_inches(18,30)\n",
    "\n",
    "plt.show()"
   ]
  },
  {
   "cell_type": "markdown",
   "metadata": {},
   "source": [
    "<p>At this point we have noticed that the sum of the vehicles counted by the ranger-stops 0 and 2 sensors extrapolates the total occurences of events involving ranger vehicles (2p). Therefore, it is confirmed that there are other visitors reaching these ranger areas. But this can be easily understood having a look on the park map. These two stops are not surronded by gates (which determines non visitors areas), so they are allowed to be reached by visitors. In the case of these areas being populated by the Rose-crested Blue Pipit the park should consider isolating these areas properly.</p>"
   ]
  },
  {
   "cell_type": "code",
   "execution_count": 34,
   "metadata": {},
   "outputs": [
    {
     "data": {
      "text/plain": [
       "<matplotlib.image.AxesImage at 0x1f5511afcf8>"
      ]
     },
     "execution_count": 34,
     "metadata": {},
     "output_type": "execute_result"
    },
    {
     "data": {
      "image/png": "[encoded data removed]",
      "text/plain": [
       "<matplotlib.figure.Figure at 0x1f55190b7f0>"
      ]
     },
     "metadata": {},
     "output_type": "display_data"
    }
   ],
   "source": [
    "img=mpimg.imread('../data/Lekagul Roadways labeled v2.jpg')\n",
    "plt.imshow(img )\n"
   ]
  },
  {
   "cell_type": "markdown",
   "metadata": {},
   "source": [
    "<p>When confronted with this, what immediately came to our minds is that a easier way of visualizing the park roads configuration would be helpful for our analysis. So, manually we derived a graph representation of these roads as a csv file (presented at this project 'data' file) where the first column represents an origin point, the second column a destination point and the third is a boolean value indicating if this path is restricted by gates or not.</p>"
   ]
  },
  {
   "cell_type": "markdown",
   "metadata": {
    "collapsed": true
   },
   "source": [
    "<p>We then load the data from the csv file:</p>"
   ]
  },
  {
   "cell_type": "code",
   "execution_count": 27,
   "metadata": {
    "collapsed": true
   },
   "outputs": [],
   "source": [
    "roads = pd.read_csv('../data/roads.csv')"
   ]
  },
  {
   "cell_type": "markdown",
   "metadata": {},
   "source": [
    "<p>And visualize the resulting graph using the <i>graphviz</i> module:</p>"
   ]
  },
  {
   "cell_type": "code",
   "execution_count": 22,
   "metadata": {},
   "outputs": [
    {
     "data": {
      "image/svg+xml": [
       "<?xml version=\"1.0\" encoding=\"UTF-8\" standalone=\"no\"?>\r\n",
       "<!DOCTYPE svg PUBLIC \"-//W3C//DTD SVG 1.1//EN\"\r\n",
       " \"http://www.w3.org/Graphics/SVG/1.1/DTD/svg11.dtd\">\r\n",
       "<!-- Generated by graphviz version 2.38.0 (20140413.2041)\r\n",
       " -->\r\n",
       "<!-- Title: %3 Pages: 1 -->\r\n",
       "<svg width=\"661pt\" height=\"720pt\"\r\n",
       " viewBox=\"0.00 0.00 661.35 720.00\" xmlns=\"http://www.w3.org/2000/svg\" xmlns:xlink=\"http://www.w3.org/1999/xlink\">\r\n",
       "<g id=\"graph0\" class=\"graph\" transform=\"scale(0.274346 0.274346) rotate(0) translate(4 2620.42)\">\r\n",
       "<title>%3</title>\r\n",
       "<polygon fill=\"white\" stroke=\"none\" points=\"-4,4 -4,-2620.42 2406.63,-2620.42 2406.63,4 -4,4\"/>\r\n",
       "<!-- Ranger&#45;stop 1 -->\r\n",
       "<g id=\"node1\" class=\"node\"><title>Ranger&#45;stop 1</title>\r\n",
       "<ellipse fill=\"#b2dfee\" stroke=\"#b2dfee\" cx=\"1330.3\" cy=\"-2554.03\" rx=\"62.2891\" ry=\"62.2891\"/>\r\n",
       "<text text-anchor=\"middle\" x=\"1330.3\" y=\"-2550.33\" font-family=\"Times New Roman,serif\" font-size=\"14.00\">Ranger&#45;stop 1</text>\r\n",
       "</g>\r\n",
       "<!-- Gate 2 -->\r\n",
       "<g id=\"node28\" class=\"node\"><title>Gate 2</title>\r\n",
       "<ellipse fill=\"#b2dfee\" stroke=\"#b2dfee\" cx=\"1248.3\" cy=\"-2392.59\" rx=\"34.394\" ry=\"34.394\"/>\r\n",
       "<text text-anchor=\"middle\" x=\"1248.3\" y=\"-2388.89\" font-family=\"Times New Roman,serif\" font-size=\"14.00\">Gate 2</text>\r\n",
       "</g>\r\n",
       "<!-- Ranger&#45;stop 1&#45;&#45;Gate 2 -->\r\n",
       "<g id=\"edge8\" class=\"edge\"><title>Ranger&#45;stop 1&#45;&#45;Gate 2</title>\r\n",
       "<path fill=\"none\" stroke=\"red\" stroke-width=\"10\" d=\"M1302.08,-2498.16C1289.2,-2473.12 1274.45,-2444.44 1263.66,-2423.46\"/>\r\n",
       "</g>\r\n",
       "<!-- Camping 8 -->\r\n",
       "<g id=\"node2\" class=\"node\"><title>Camping 8</title>\r\n",
       "<ellipse fill=\"#b2dfee\" stroke=\"#b2dfee\" cx=\"426.298\" cy=\"-1151.12\" rx=\"50.0912\" ry=\"50.0912\"/>\r\n",
       "<text text-anchor=\"middle\" x=\"426.298\" y=\"-1147.42\" font-family=\"Times New Roman,serif\" font-size=\"14.00\">Camping 8</text>\r\n",
       "</g>\r\n",
       "<!-- Camping 6 -->\r\n",
       "<g id=\"node6\" class=\"node\"><title>Camping 6</title>\r\n",
       "<ellipse fill=\"#b2dfee\" stroke=\"#b2dfee\" cx=\"786.298\" cy=\"-302.73\" rx=\"50.0912\" ry=\"50.0912\"/>\r\n",
       "<text text-anchor=\"middle\" x=\"786.298\" y=\"-299.03\" font-family=\"Times New Roman,serif\" font-size=\"14.00\">Camping 6</text>\r\n",
       "</g>\r\n",
       "<!-- Camping 8&#45;&#45;Camping 6 -->\r\n",
       "<g id=\"edge122\" class=\"edge\"><title>Camping 8&#45;&#45;Camping 6</title>\r\n",
       "<path fill=\"none\" stroke=\"black\" d=\"M428.463,-1100.91C431.098,-1055.37 436.72,-985.95 448.298,-926.64 496.056,-681.98 445.314,-578.249 607.298,-388.775 641.057,-349.286 697.268,-326.793 737.699,-314.985\"/>\r\n",
       "</g>\r\n",
       "<!-- Gate 8 -->\r\n",
       "<g id=\"node9\" class=\"node\"><title>Gate 8</title>\r\n",
       "<ellipse fill=\"#b2dfee\" stroke=\"#b2dfee\" cx=\"272.298\" cy=\"-182.237\" rx=\"34.394\" ry=\"34.394\"/>\r\n",
       "<text text-anchor=\"middle\" x=\"272.298\" y=\"-178.537\" font-family=\"Times New Roman,serif\" font-size=\"14.00\">Gate 8</text>\r\n",
       "</g>\r\n",
       "<!-- Camping 8&#45;&#45;Gate 8 -->\r\n",
       "<g id=\"edge123\" class=\"edge\"><title>Camping 8&#45;&#45;Gate 8</title>\r\n",
       "<path fill=\"none\" stroke=\"black\" d=\"M395.45,-1111.47C341.176,-1039.44 234.298,-877.868 234.298,-722.402 234.298,-722.402 234.298,-722.402 234.298,-437.821 234.298,-357.382 253.084,-264.198 264.239,-215.959\"/>\r\n",
       "</g>\r\n",
       "<!-- Gate 5 -->\r\n",
       "<g id=\"node12\" class=\"node\"><title>Gate 5</title>\r\n",
       "<ellipse fill=\"#b2dfee\" stroke=\"#b2dfee\" cx=\"1191.3\" cy=\"-438.821\" rx=\"34.394\" ry=\"34.394\"/>\r\n",
       "<text text-anchor=\"middle\" x=\"1191.3\" y=\"-435.121\" font-family=\"Times New Roman,serif\" font-size=\"14.00\">Gate 5</text>\r\n",
       "</g>\r\n",
       "<!-- Camping 8&#45;&#45;Gate 5 -->\r\n",
       "<g id=\"edge121\" class=\"edge\"><title>Camping 8&#45;&#45;Gate 5</title>\r\n",
       "<path fill=\"none\" stroke=\"black\" d=\"M452.471,-1108.45C463.275,-1091.21 475.911,-1071.02 487.298,-1052.73 522.12,-996.786 526.762,-980.093 565.298,-926.64 658.615,-797.203 712.816,-787.553 795.298,-650.955 826.631,-599.063 801.367,-564.425 847.298,-524.866 894.204,-484.468 1079.95,-455.028 1157.26,-444.283\"/>\r\n",
       "</g>\r\n",
       "<!-- General&#45;gate 6 -->\r\n",
       "<g id=\"node19\" class=\"node\"><title>General&#45;gate 6</title>\r\n",
       "<ellipse fill=\"#b2dfee\" stroke=\"#b2dfee\" cx=\"723.298\" cy=\"-587.911\" rx=\"63.0888\" ry=\"63.0888\"/>\r\n",
       "<text text-anchor=\"middle\" x=\"723.298\" y=\"-584.211\" font-family=\"Times New Roman,serif\" font-size=\"14.00\">General&#45;gate 6</text>\r\n",
       "</g>\r\n",
       "<!-- Camping 8&#45;&#45;General&#45;gate 6 -->\r\n",
       "<g id=\"edge120\" class=\"edge\"><title>Camping 8&#45;&#45;General&#45;gate 6</title>\r\n",
       "<path fill=\"none\" stroke=\"black\" d=\"M437.784,-1102C449.489,-1056.03 469.43,-985.255 494.298,-926.64 501.446,-909.79 506.282,-907.095 514.298,-890.64 557.332,-802.299 540.933,-765.261 600.298,-686.955 619.435,-661.712 646.484,-639.214 670.345,-622.158\"/>\r\n",
       "</g>\r\n",
       "<!-- Entrance 2 -->\r\n",
       "<g id=\"node21\" class=\"node\"><title>Entrance 2</title>\r\n",
       "<ellipse fill=\"#b2dfee\" stroke=\"#b2dfee\" cx=\"995.298\" cy=\"-841.245\" rx=\"49.2915\" ry=\"49.2915\"/>\r\n",
       "<text text-anchor=\"middle\" x=\"995.298\" y=\"-837.545\" font-family=\"Times New Roman,serif\" font-size=\"14.00\">Entrance 2</text>\r\n",
       "</g>\r\n",
       "<!-- Camping 8&#45;&#45;Entrance 2 -->\r\n",
       "<g id=\"edge118\" class=\"edge\"><title>Camping 8&#45;&#45;Entrance 2</title>\r\n",
       "<path fill=\"none\" stroke=\"black\" d=\"M475.481,-1141.25C539.718,-1128.28 654.341,-1100.38 742.298,-1052.73 789.02,-1027.42 901.406,-927.774 959.374,-875.174\"/>\r\n",
       "</g>\r\n",
       "<!-- General&#45;gate 3 -->\r\n",
       "<g id=\"node23\" class=\"node\"><title>General&#45;gate 3</title>\r\n",
       "<ellipse fill=\"#b2dfee\" stroke=\"#b2dfee\" cx=\"637.298\" cy=\"-989.685\" rx=\"63.0888\" ry=\"63.0888\"/>\r\n",
       "<text text-anchor=\"middle\" x=\"637.298\" y=\"-985.985\" font-family=\"Times New Roman,serif\" font-size=\"14.00\">General&#45;gate 3</text>\r\n",
       "</g>\r\n",
       "<!-- Camping 8&#45;&#45;General&#45;gate 3 -->\r\n",
       "<g id=\"edge117\" class=\"edge\"><title>Camping 8&#45;&#45;General&#45;gate 3</title>\r\n",
       "<path fill=\"none\" stroke=\"black\" d=\"M460.824,-1114.87C470.101,-1106 480.332,-1096.73 490.298,-1088.73 519.842,-1065.01 555.092,-1041.36 583.667,-1023.23\"/>\r\n",
       "</g>\r\n",
       "<!-- Gate 4 -->\r\n",
       "<g id=\"node25\" class=\"node\"><title>Gate 4</title>\r\n",
       "<ellipse fill=\"#b2dfee\" stroke=\"#b2dfee\" cx=\"1083.3\" cy=\"-721.402\" rx=\"34.394\" ry=\"34.394\"/>\r\n",
       "<text text-anchor=\"middle\" x=\"1083.3\" y=\"-717.702\" font-family=\"Times New Roman,serif\" font-size=\"14.00\">Gate 4</text>\r\n",
       "</g>\r\n",
       "<!-- Camping 8&#45;&#45;Gate 4 -->\r\n",
       "<g id=\"edge119\" class=\"edge\"><title>Camping 8&#45;&#45;Gate 4</title>\r\n",
       "<path fill=\"none\" stroke=\"black\" d=\"M476.43,-1146.89C539.802,-1140.07 648.002,-1118.83 709.298,-1052.73 748.684,-1010.25 702.887,-969.094 742.298,-926.64 775.862,-890.484 806.062,-917.722 847.298,-890.64 896.944,-858.035 889.585,-827.222 937.298,-791.849 972.811,-765.52 1019.89,-745.302 1050.86,-733.641\"/>\r\n",
       "</g>\r\n",
       "<!-- Entrance 4 -->\r\n",
       "<g id=\"node37\" class=\"node\"><title>Entrance 4</title>\r\n",
       "<ellipse fill=\"#b2dfee\" stroke=\"#b2dfee\" cx=\"1298.3\" cy=\"-55.895\" rx=\"49.2915\" ry=\"49.2915\"/>\r\n",
       "<text text-anchor=\"middle\" x=\"1298.3\" y=\"-52.195\" font-family=\"Times New Roman,serif\" font-size=\"14.00\">Entrance 4</text>\r\n",
       "</g>\r\n",
       "<!-- Camping 8&#45;&#45;Entrance 4 -->\r\n",
       "<g id=\"edge124\" class=\"edge\"><title>Camping 8&#45;&#45;Entrance 4</title>\r\n",
       "<path fill=\"none\" stroke=\"black\" d=\"M405.693,-1105.32C372.359,-1028.62 310.298,-866.471 310.298,-722.402 310.298,-722.402 310.298,-722.402 310.298,-586.911 310.298,-312.511 486.191,-240.938 744.298,-147.79 922.843,-83.3554 1150.35,-64.3535 1249,-58.9493\"/>\r\n",
       "</g>\r\n",
       "<!-- General&#45;gate 0 -->\r\n",
       "<g id=\"node3\" class=\"node\"><title>General&#45;gate 0</title>\r\n",
       "<ellipse fill=\"#b2dfee\" stroke=\"#b2dfee\" cx=\"1090.3\" cy=\"-1745.53\" rx=\"63.0888\" ry=\"63.0888\"/>\r\n",
       "<text text-anchor=\"middle\" x=\"1090.3\" y=\"-1741.83\" font-family=\"Times New Roman,serif\" font-size=\"14.00\">General&#45;gate 0</text>\r\n",
       "</g>\r\n",
       "<!-- General&#45;gate 0&#45;&#45;Camping 8 -->\r\n",
       "<g id=\"edge77\" class=\"edge\"><title>General&#45;gate 0&#45;&#45;Camping 8</title>\r\n",
       "<path fill=\"none\" stroke=\"black\" d=\"M1027.32,-1741.62C896.014,-1734.29 598.981,-1710.87 524.298,-1646.49 393.746,-1533.94 406.088,-1301.86 418.711,-1200.86\"/>\r\n",
       "</g>\r\n",
       "<!-- General&#45;gate 0&#45;&#45;Camping 6 -->\r\n",
       "<g id=\"edge82\" class=\"edge\"><title>General&#45;gate 0&#45;&#45;Camping 6</title>\r\n",
       "<path fill=\"none\" stroke=\"black\" d=\"M1139.12,-1705.29C1159.07,-1688.19 1181.77,-1667.32 1200.3,-1646.49 1414.45,-1405.73 1476.49,-1343.04 1616.3,-1052.73 1658.61,-964.864 1678.3,-939.767 1678.3,-842.245 1678.3,-842.245 1678.3,-842.245 1678.3,-720.402 1678.3,-345.866 1024.76,-307.223 836.489,-303.862\"/>\r\n",
       "</g>\r\n",
       "<!-- General&#45;gate 0&#45;&#45;Gate 8 -->\r\n",
       "<g id=\"edge83\" class=\"edge\"><title>General&#45;gate 0&#45;&#45;Gate 8</title>\r\n",
       "<path fill=\"none\" stroke=\"black\" d=\"M1027.17,-1741.63C884.964,-1734.03 544.715,-1709.58 451.298,-1646.49 239.64,-1503.54 158.298,-1407.53 158.298,-1152.12 158.298,-1152.12 158.298,-1152.12 158.298,-988.685 158.298,-810.206 120.298,-767.389 120.298,-588.911 120.298,-588.911 120.298,-588.911 120.298,-437.821 120.298,-352.473 121.803,-322.215 171.298,-252.684 188.945,-227.893 218.391,-209.129 240.949,-197.394\"/>\r\n",
       "</g>\r\n",
       "<!-- General&#45;gate 0&#45;&#45;Gate 5 -->\r\n",
       "<g id=\"edge81\" class=\"edge\"><title>General&#45;gate 0&#45;&#45;Gate 5</title>\r\n",
       "<path fill=\"none\" stroke=\"black\" d=\"M1129.05,-1695.51C1140.01,-1680.32 1151.37,-1663.18 1160.3,-1646.49 1256.91,-1465.86 1269.96,-1412.58 1318.3,-1213.52 1373.63,-985.68 1378.59,-919.701 1350.3,-686.955 1341.34,-613.297 1357.81,-581.859 1310.3,-524.866 1285.33,-494.919 1261.08,-512.8 1230.3,-488.866 1222.74,-482.99 1215.77,-475.358 1209.88,-467.872\"/>\r\n",
       "</g>\r\n",
       "<!-- General&#45;gate 0&#45;&#45;General&#45;gate 6 -->\r\n",
       "<g id=\"edge80\" class=\"edge\"><title>General&#45;gate 0&#45;&#45;General&#45;gate 6</title>\r\n",
       "<path fill=\"none\" stroke=\"black\" d=\"M1051.3,-1695.83C1016.76,-1650.37 967.425,-1579.38 938.298,-1510.4 792.304,-1164.67 844.417,-1050.51 751.298,-686.955 748.113,-674.522 744.487,-661.268 740.924,-648.655\"/>\r\n",
       "</g>\r\n",
       "<!-- General&#45;gate 0&#45;&#45;Entrance 2 -->\r\n",
       "<g id=\"edge78\" class=\"edge\"><title>General&#45;gate 0&#45;&#45;Entrance 2</title>\r\n",
       "<path fill=\"none\" stroke=\"black\" d=\"M1109.38,-1685.18C1112.67,-1672.54 1115.58,-1659.17 1117.3,-1646.49 1123.26,-1602.41 1118.94,-1590.85 1117.3,-1546.4 1106.99,-1267.65 1081.06,-1198.43 1018.3,-926.64 1015.46,-914.359 1012.05,-901.17 1008.73,-888.952\"/>\r\n",
       "</g>\r\n",
       "<!-- General&#45;gate 0&#45;&#45;General&#45;gate 3 -->\r\n",
       "<g id=\"edge85\" class=\"edge\"><title>General&#45;gate 0&#45;&#45;General&#45;gate 3</title>\r\n",
       "<path fill=\"none\" stroke=\"black\" d=\"M1027.05,-1741.9C903.403,-1732.73 635.575,-1691.87 565.298,-1510.4 503.456,-1350.71 571.274,-1145.28 611.666,-1047.41\"/>\r\n",
       "</g>\r\n",
       "<!-- Gate 3 -->\r\n",
       "<g id=\"node24\" class=\"node\"><title>Gate 3</title>\r\n",
       "<ellipse fill=\"#b2dfee\" stroke=\"#b2dfee\" cx=\"1025.3\" cy=\"-1298.91\" rx=\"34.394\" ry=\"34.394\"/>\r\n",
       "<text text-anchor=\"middle\" x=\"1025.3\" y=\"-1295.21\" font-family=\"Times New Roman,serif\" font-size=\"14.00\">Gate 3</text>\r\n",
       "</g>\r\n",
       "<!-- General&#45;gate 0&#45;&#45;Gate 3 -->\r\n",
       "<g id=\"edge76\" class=\"edge\"><title>General&#45;gate 0&#45;&#45;Gate 3</title>\r\n",
       "<path fill=\"none\" stroke=\"black\" d=\"M1098.54,-1682.97C1106.08,-1609.9 1111.81,-1485.23 1080.3,-1384.31 1073.57,-1362.77 1059.66,-1341.51 1047.51,-1325.72\"/>\r\n",
       "</g>\r\n",
       "<!-- General&#45;gate 0&#45;&#45;Gate 4 -->\r\n",
       "<g id=\"edge79\" class=\"edge\"><title>General&#45;gate 0&#45;&#45;Gate 4</title>\r\n",
       "<path fill=\"none\" stroke=\"black\" d=\"M1118.08,-1688.79C1123.91,-1675.22 1129.44,-1660.56 1133.3,-1646.49 1217.99,-1337.55 1224.22,-1242.23 1169.3,-926.64 1158.72,-865.877 1162.9,-847.492 1136.3,-791.849 1128.64,-775.84 1116.92,-759.958 1106.44,-747.431\"/>\r\n",
       "</g>\r\n",
       "<!-- General&#45;gate 5 -->\r\n",
       "<g id=\"node33\" class=\"node\"><title>General&#45;gate 5</title>\r\n",
       "<ellipse fill=\"#b2dfee\" stroke=\"#b2dfee\" cx=\"637.298\" cy=\"-1447.35\" rx=\"63.0888\" ry=\"63.0888\"/>\r\n",
       "<text text-anchor=\"middle\" x=\"637.298\" y=\"-1443.65\" font-family=\"Times New Roman,serif\" font-size=\"14.00\">General&#45;gate 5</text>\r\n",
       "</g>\r\n",
       "<!-- General&#45;gate 0&#45;&#45;General&#45;gate 5 -->\r\n",
       "<g id=\"edge75\" class=\"edge\"><title>General&#45;gate 0&#45;&#45;General&#45;gate 5</title>\r\n",
       "<path fill=\"none\" stroke=\"black\" d=\"M1027.89,-1736.37C961.755,-1725.2 856.778,-1700.07 782.298,-1646.49 730.913,-1609.52 690.351,-1548.77 665.347,-1504.27\"/>\r\n",
       "</g>\r\n",
       "<!-- General&#45;gate 0&#45;&#45;Entrance 4 -->\r\n",
       "<g id=\"edge84\" class=\"edge\"><title>General&#45;gate 0&#45;&#45;Entrance 4</title>\r\n",
       "<path fill=\"none\" stroke=\"black\" d=\"M1145.92,-1715.64C1179.67,-1697.3 1223.07,-1672.22 1259.3,-1646.49 1500.03,-1475.46 1628.75,-1476.39 1763.3,-1213.52 1808.58,-1125.04 1782.3,-1090.08 1782.3,-990.685 1782.3,-990.685 1782.3,-990.685 1782.3,-301.73 1782.3,-108.452 1471.18,-67.7145 1347.82,-59.1586\"/>\r\n",
       "</g>\r\n",
       "<!-- Camping 1 -->\r\n",
       "<g id=\"node40\" class=\"node\"><title>Camping 1</title>\r\n",
       "<ellipse fill=\"#b2dfee\" stroke=\"#b2dfee\" cx=\"841.298\" cy=\"-1596.44\" rx=\"50.0912\" ry=\"50.0912\"/>\r\n",
       "<text text-anchor=\"middle\" x=\"841.298\" y=\"-1592.74\" font-family=\"Times New Roman,serif\" font-size=\"14.00\">Camping 1</text>\r\n",
       "</g>\r\n",
       "<!-- General&#45;gate 0&#45;&#45;Camping 1 -->\r\n",
       "<g id=\"edge74\" class=\"edge\"><title>General&#45;gate 0&#45;&#45;Camping 1</title>\r\n",
       "<path fill=\"none\" stroke=\"black\" d=\"M1033.47,-1717.5C996.149,-1699 946.749,-1673.09 905.298,-1646.49 896.816,-1641.04 888.042,-1634.78 879.812,-1628.6\"/>\r\n",
       "</g>\r\n",
       "<!-- Camping 4 -->\r\n",
       "<g id=\"node4\" class=\"node\"><title>Camping 4</title>\r\n",
       "<ellipse fill=\"#b2dfee\" stroke=\"#b2dfee\" cx=\"1073.3\" cy=\"-2231.15\" rx=\"50.0912\" ry=\"50.0912\"/>\r\n",
       "<text text-anchor=\"middle\" x=\"1073.3\" y=\"-2227.45\" font-family=\"Times New Roman,serif\" font-size=\"14.00\">Camping 4</text>\r\n",
       "</g>\r\n",
       "<!-- Camping 3 -->\r\n",
       "<g id=\"node10\" class=\"node\"><title>Camping 3</title>\r\n",
       "<ellipse fill=\"#b2dfee\" stroke=\"#b2dfee\" cx=\"957.298\" cy=\"-2069.71\" rx=\"50.0912\" ry=\"50.0912\"/>\r\n",
       "<text text-anchor=\"middle\" x=\"957.298\" y=\"-2066.01\" font-family=\"Times New Roman,serif\" font-size=\"14.00\">Camping 3</text>\r\n",
       "</g>\r\n",
       "<!-- Camping 4&#45;&#45;Camping 3 -->\r\n",
       "<g id=\"edge18\" class=\"edge\"><title>Camping 4&#45;&#45;Camping 3</title>\r\n",
       "<path fill=\"none\" stroke=\"black\" d=\"M1044.33,-2190.33C1026.61,-2165.98 1004.03,-2134.94 986.303,-2110.58\"/>\r\n",
       "</g>\r\n",
       "<!-- Gate 1 -->\r\n",
       "<g id=\"node15\" class=\"node\"><title>Gate 1</title>\r\n",
       "<ellipse fill=\"#b2dfee\" stroke=\"#b2dfee\" cx=\"1435.3\" cy=\"-2069.71\" rx=\"34.394\" ry=\"34.394\"/>\r\n",
       "<text text-anchor=\"middle\" x=\"1435.3\" y=\"-2066.01\" font-family=\"Times New Roman,serif\" font-size=\"14.00\">Gate 1</text>\r\n",
       "</g>\r\n",
       "<!-- Camping 4&#45;&#45;Gate 1 -->\r\n",
       "<g id=\"edge19\" class=\"edge\"><title>Camping 4&#45;&#45;Gate 1</title>\r\n",
       "<path fill=\"none\" stroke=\"black\" d=\"M1103.45,-2191.1C1111.89,-2182.51 1121.69,-2174.32 1132.3,-2168.76 1220.82,-2122.33 1262.52,-2172.34 1354.3,-2132.76 1375.44,-2123.64 1396,-2107.78 1411.11,-2094.38\"/>\r\n",
       "</g>\r\n",
       "<!-- Camping 0 -->\r\n",
       "<g id=\"node18\" class=\"node\"><title>Camping 0</title>\r\n",
       "<ellipse fill=\"#b2dfee\" stroke=\"#b2dfee\" cx=\"959.298\" cy=\"-1907.62\" rx=\"50.0912\" ry=\"50.0912\"/>\r\n",
       "<text text-anchor=\"middle\" x=\"959.298\" y=\"-1903.92\" font-family=\"Times New Roman,serif\" font-size=\"14.00\">Camping 0</text>\r\n",
       "</g>\r\n",
       "<!-- Camping 4&#45;&#45;Camping 0 -->\r\n",
       "<g id=\"edge20\" class=\"edge\"><title>Camping 4&#45;&#45;Camping 0</title>\r\n",
       "<path fill=\"none\" stroke=\"black\" d=\"M1064.91,-2181.4C1056.04,-2135.28 1040.02,-2064.67 1016.3,-2006.67 1008.32,-1987.17 997.058,-1966.84 986.645,-1949.78\"/>\r\n",
       "</g>\r\n",
       "<!-- General&#45;gate 2 -->\r\n",
       "<g id=\"node22\" class=\"node\"><title>General&#45;gate 2</title>\r\n",
       "<ellipse fill=\"#b2dfee\" stroke=\"#b2dfee\" cx=\"1090.3\" cy=\"-1907.62\" rx=\"63.0888\" ry=\"63.0888\"/>\r\n",
       "<text text-anchor=\"middle\" x=\"1090.3\" y=\"-1903.92\" font-family=\"Times New Roman,serif\" font-size=\"14.00\">General&#45;gate 2</text>\r\n",
       "</g>\r\n",
       "<!-- Camping 4&#45;&#45;General&#45;gate 2 -->\r\n",
       "<g id=\"edge17\" class=\"edge\"><title>Camping 4&#45;&#45;General&#45;gate 2</title>\r\n",
       "<path fill=\"none\" stroke=\"black\" d=\"M1075.9,-2180.97C1078.88,-2124.59 1083.77,-2032.07 1087.01,-1970.76\"/>\r\n",
       "</g>\r\n",
       "<!-- Ranger&#45;stop 2 -->\r\n",
       "<g id=\"node5\" class=\"node\"><title>Ranger&#45;stop 2</title>\r\n",
       "<ellipse fill=\"#b2dfee\" stroke=\"#b2dfee\" cx=\"1730.3\" cy=\"-2231.15\" rx=\"62.2891\" ry=\"62.2891\"/>\r\n",
       "<text text-anchor=\"middle\" x=\"1730.3\" y=\"-2227.45\" font-family=\"Times New Roman,serif\" font-size=\"14.00\">Ranger&#45;stop 2</text>\r\n",
       "</g>\r\n",
       "<!-- Ranger&#45;stop 0 -->\r\n",
       "<g id=\"node7\" class=\"node\"><title>Ranger&#45;stop 0</title>\r\n",
       "<ellipse fill=\"#b2dfee\" stroke=\"#b2dfee\" cx=\"1550.3\" cy=\"-2069.71\" rx=\"62.2891\" ry=\"62.2891\"/>\r\n",
       "<text text-anchor=\"middle\" x=\"1550.3\" y=\"-2066.01\" font-family=\"Times New Roman,serif\" font-size=\"14.00\">Ranger&#45;stop 0</text>\r\n",
       "</g>\r\n",
       "<!-- Ranger&#45;stop 2&#45;&#45;Ranger&#45;stop 0 -->\r\n",
       "<g id=\"edge53\" class=\"edge\"><title>Ranger&#45;stop 2&#45;&#45;Ranger&#45;stop 0</title>\r\n",
       "<path fill=\"none\" stroke=\"black\" d=\"M1683.94,-2189.09C1657.17,-2165.38 1623.6,-2135.64 1596.81,-2111.91\"/>\r\n",
       "</g>\r\n",
       "<!-- Camping 6&#45;&#45;Gate 8 -->\r\n",
       "<g id=\"edge152\" class=\"edge\"><title>Camping 6&#45;&#45;Gate 8</title>\r\n",
       "<path fill=\"none\" stroke=\"black\" d=\"M738.068,-289.23C698.454,-279.067 640.843,-264.524 590.298,-252.684 487.135,-228.518 364.501,-202.497 306.259,-190.302\"/>\r\n",
       "</g>\r\n",
       "<!-- Camping 6&#45;&#45;Entrance 4 -->\r\n",
       "<g id=\"edge153\" class=\"edge\"><title>Camping 6&#45;&#45;Entrance 4</title>\r\n",
       "<path fill=\"none\" stroke=\"black\" d=\"M826.806,-272.617C874.626,-239.205 957.401,-184.326 1034.3,-147.79 1107.2,-113.154 1196.94,-85.1224 1250.79,-69.7558\"/>\r\n",
       "</g>\r\n",
       "<!-- Ranger&#45;stop 0&#45;&#45;General&#45;gate 2 -->\r\n",
       "<g id=\"edge54\" class=\"edge\"><title>Ranger&#45;stop 0&#45;&#45;General&#45;gate 2</title>\r\n",
       "<path fill=\"none\" stroke=\"black\" d=\"M1506.16,-2025.21C1497.43,-2018.25 1487.96,-2011.69 1478.3,-2006.67 1371.8,-1951.31 1232.35,-1926.02 1152.92,-1915.42\"/>\r\n",
       "</g>\r\n",
       "<!-- Ranger&#45;stop 4 -->\r\n",
       "<g id=\"node8\" class=\"node\"><title>Ranger&#45;stop 4</title>\r\n",
       "<ellipse fill=\"#b2dfee\" stroke=\"#b2dfee\" cx=\"1203.3\" cy=\"-2231.15\" rx=\"62.2891\" ry=\"62.2891\"/>\r\n",
       "<text text-anchor=\"middle\" x=\"1203.3\" y=\"-2227.45\" font-family=\"Times New Roman,serif\" font-size=\"14.00\">Ranger&#45;stop 4</text>\r\n",
       "</g>\r\n",
       "<!-- Camping 5 -->\r\n",
       "<g id=\"node14\" class=\"node\"><title>Camping 5</title>\r\n",
       "<ellipse fill=\"#b2dfee\" stroke=\"#b2dfee\" cx=\"1295.3\" cy=\"-2069.71\" rx=\"50.0912\" ry=\"50.0912\"/>\r\n",
       "<text text-anchor=\"middle\" x=\"1295.3\" y=\"-2066.01\" font-family=\"Times New Roman,serif\" font-size=\"14.00\">Camping 5</text>\r\n",
       "</g>\r\n",
       "<!-- Ranger&#45;stop 4&#45;&#45;Camping 5 -->\r\n",
       "<g id=\"edge14\" class=\"edge\"><title>Ranger&#45;stop 4&#45;&#45;Camping 5</title>\r\n",
       "<path fill=\"none\" stroke=\"black\" d=\"M1234.19,-2176.62C1246.04,-2156.08 1259.39,-2132.94 1270.59,-2113.53\"/>\r\n",
       "</g>\r\n",
       "<!-- Ganeral&#45;gate 2 -->\r\n",
       "<g id=\"node35\" class=\"node\"><title>Ganeral&#45;gate 2</title>\r\n",
       "<ellipse fill=\"#b2dfee\" stroke=\"#b2dfee\" cx=\"1164.3\" cy=\"-2069.71\" rx=\"63.0888\" ry=\"63.0888\"/>\r\n",
       "<text text-anchor=\"middle\" x=\"1164.3\" y=\"-2066.01\" font-family=\"Times New Roman,serif\" font-size=\"14.00\">Ganeral&#45;gate 2</text>\r\n",
       "</g>\r\n",
       "<!-- Ranger&#45;stop 4&#45;&#45;Ganeral&#45;gate 2 -->\r\n",
       "<g id=\"edge15\" class=\"edge\"><title>Ranger&#45;stop 4&#45;&#45;Ganeral&#45;gate 2</title>\r\n",
       "<path fill=\"none\" stroke=\"black\" d=\"M1188.66,-2170.33C1185.53,-2157.51 1182.22,-2143.97 1179.08,-2131.13\"/>\r\n",
       "</g>\r\n",
       "<!-- Ranger&#45;base -->\r\n",
       "<g id=\"node13\" class=\"node\"><title>Ranger&#45;base</title>\r\n",
       "<ellipse fill=\"#b2dfee\" stroke=\"#b2dfee\" cx=\"272.298\" cy=\"-55.895\" rx=\"55.7903\" ry=\"55.7903\"/>\r\n",
       "<text text-anchor=\"middle\" x=\"272.298\" y=\"-52.195\" font-family=\"Times New Roman,serif\" font-size=\"14.00\">Ranger&#45;base</text>\r\n",
       "</g>\r\n",
       "<!-- Gate 8&#45;&#45;Ranger&#45;base -->\r\n",
       "<g id=\"edge154\" class=\"edge\"><title>Gate 8&#45;&#45;Ranger&#45;base</title>\r\n",
       "<path fill=\"none\" stroke=\"red\" stroke-width=\"10\" d=\"M272.298,-147.588C272.298,-136.656 272.298,-124.222 272.298,-112.14\"/>\r\n",
       "</g>\r\n",
       "<!-- Gate 8&#45;&#45;Entrance 4 -->\r\n",
       "<g id=\"edge155\" class=\"edge\"><title>Gate 8&#45;&#45;Entrance 4</title>\r\n",
       "<path fill=\"none\" stroke=\"black\" d=\"M300.889,-162.716C311.054,-156.984 322.828,-151.268 334.298,-147.79 508.443,-94.994 1077.5,-66.4882 1248.97,-58.9484\"/>\r\n",
       "</g>\r\n",
       "<!-- Camping 3&#45;&#45;General&#45;gate 2 -->\r\n",
       "<g id=\"edge22\" class=\"edge\"><title>Camping 3&#45;&#45;General&#45;gate 2</title>\r\n",
       "<path fill=\"none\" stroke=\"black\" d=\"M988.817,-2030.77C1007.25,-2008.58 1030.7,-1980.35 1050.42,-1956.63\"/>\r\n",
       "</g>\r\n",
       "<!-- Camping 3&#45;&#45;Gate 2 -->\r\n",
       "<g id=\"edge21\" class=\"edge\"><title>Camping 3&#45;&#45;Gate 2</title>\r\n",
       "<path fill=\"none\" stroke=\"black\" d=\"M964.556,-2119.3C973.996,-2176.69 991.953,-2267.66 1014.3,-2293.54 1066.69,-2354.22 1162.86,-2378.18 1214.08,-2386.96\"/>\r\n",
       "</g>\r\n",
       "<!-- Ranger&#45;stop 5 -->\r\n",
       "<g id=\"node11\" class=\"node\"><title>Ranger&#45;stop 5</title>\r\n",
       "<ellipse fill=\"#b2dfee\" stroke=\"#b2dfee\" cx=\"1094.3\" cy=\"-587.911\" rx=\"62.2891\" ry=\"62.2891\"/>\r\n",
       "<text text-anchor=\"middle\" x=\"1094.3\" y=\"-584.211\" font-family=\"Times New Roman,serif\" font-size=\"14.00\">Ranger&#45;stop 5</text>\r\n",
       "</g>\r\n",
       "<!-- Gate 5&#45;&#45;Camping 6 -->\r\n",
       "<g id=\"edge149\" class=\"edge\"><title>Gate 5&#45;&#45;Camping 6</title>\r\n",
       "<path fill=\"none\" stroke=\"black\" d=\"M1158.84,-427.074C1087.51,-403.458 916.849,-346.954 833.593,-319.388\"/>\r\n",
       "</g>\r\n",
       "<!-- Gate 5&#45;&#45;Gate 8 -->\r\n",
       "<g id=\"edge150\" class=\"edge\"><title>Gate 5&#45;&#45;Gate 8</title>\r\n",
       "<path fill=\"none\" stroke=\"black\" d=\"M1167.9,-413.35C1126.72,-372.051 1036.67,-289.43 942.298,-252.684 824.334,-206.752 426.702,-188.84 306.803,-184.406\"/>\r\n",
       "</g>\r\n",
       "<!-- Gate 5&#45;&#45;Entrance 4 -->\r\n",
       "<g id=\"edge151\" class=\"edge\"><title>Gate 5&#45;&#45;Entrance 4</title>\r\n",
       "<path fill=\"none\" stroke=\"black\" d=\"M1200.42,-405.343C1219.4,-337.784 1263.18,-181.899 1285.18,-103.583\"/>\r\n",
       "</g>\r\n",
       "<!-- Camping 5&#45;&#45;General&#45;gate 2 -->\r\n",
       "<g id=\"edge16\" class=\"edge\"><title>Camping 5&#45;&#45;General&#45;gate 2</title>\r\n",
       "<path fill=\"none\" stroke=\"black\" d=\"M1262.56,-2031.61C1254.33,-2023.05 1245.27,-2014.24 1236.3,-2006.67 1207.48,-1982.35 1172.49,-1958.67 1143.99,-1940.68\"/>\r\n",
       "</g>\r\n",
       "<!-- Gate 1&#45;&#45;Camping 0 -->\r\n",
       "<g id=\"edge44\" class=\"edge\"><title>Gate 1&#45;&#45;Camping 0</title>\r\n",
       "<path fill=\"none\" stroke=\"black\" d=\"M1411.29,-2044.63C1396.24,-2031.08 1375.68,-2015.21 1354.3,-2006.67 1214.83,-1950.93 1152.96,-2037.16 1018.3,-1970.67 1007.37,-1965.27 997.388,-1956.97 988.869,-1948.17\"/>\r\n",
       "</g>\r\n",
       "<!-- General&#45;gate 7 -->\r\n",
       "<g id=\"node29\" class=\"node\"><title>General&#45;gate 7</title>\r\n",
       "<ellipse fill=\"#b2dfee\" stroke=\"#b2dfee\" cx=\"2063.3\" cy=\"-1907.62\" rx=\"63.0888\" ry=\"63.0888\"/>\r\n",
       "<text text-anchor=\"middle\" x=\"2063.3\" y=\"-1903.92\" font-family=\"Times New Roman,serif\" font-size=\"14.00\">General&#45;gate 7</text>\r\n",
       "</g>\r\n",
       "<!-- Gate 1&#45;&#45;General&#45;gate 7 -->\r\n",
       "<g id=\"edge45\" class=\"edge\"><title>Gate 1&#45;&#45;General&#45;gate 7</title>\r\n",
       "<path fill=\"none\" stroke=\"black\" d=\"M1450.1,-2038.4C1457.32,-2026.7 1467.1,-2014.31 1479.3,-2006.67 1565.52,-1952.59 1867.72,-1923.51 2000.23,-1913.11\"/>\r\n",
       "</g>\r\n",
       "<!-- Camping 2 -->\r\n",
       "<g id=\"node16\" class=\"node\"><title>Camping 2</title>\r\n",
       "<ellipse fill=\"#b2dfee\" stroke=\"#b2dfee\" cx=\"1409.3\" cy=\"-2231.15\" rx=\"50.0912\" ry=\"50.0912\"/>\r\n",
       "<text text-anchor=\"middle\" x=\"1409.3\" y=\"-2227.45\" font-family=\"Times New Roman,serif\" font-size=\"14.00\">Camping 2</text>\r\n",
       "</g>\r\n",
       "<!-- General&#45;gate 4 -->\r\n",
       "<g id=\"node17\" class=\"node\"><title>General&#45;gate 4</title>\r\n",
       "<ellipse fill=\"#b2dfee\" stroke=\"#b2dfee\" cx=\"2025.3\" cy=\"-1745.53\" rx=\"63.0888\" ry=\"63.0888\"/>\r\n",
       "<text text-anchor=\"middle\" x=\"2025.3\" y=\"-1741.83\" font-family=\"Times New Roman,serif\" font-size=\"14.00\">General&#45;gate 4</text>\r\n",
       "</g>\r\n",
       "<!-- Entrance 3 -->\r\n",
       "<g id=\"node30\" class=\"node\"><title>Entrance 3</title>\r\n",
       "<ellipse fill=\"#b2dfee\" stroke=\"#b2dfee\" cx=\"2132.3\" cy=\"-1298.91\" rx=\"49.2915\" ry=\"49.2915\"/>\r\n",
       "<text text-anchor=\"middle\" x=\"2132.3\" y=\"-1295.21\" font-family=\"Times New Roman,serif\" font-size=\"14.00\">Entrance 3</text>\r\n",
       "</g>\r\n",
       "<!-- General&#45;gate 4&#45;&#45;Entrance 3 -->\r\n",
       "<g id=\"edge52\" class=\"edge\"><title>General&#45;gate 4&#45;&#45;Entrance 3</title>\r\n",
       "<path fill=\"none\" stroke=\"black\" d=\"M2027.29,-1682.45C2031.32,-1609.14 2043.5,-1484.53 2080.3,-1384.31 2085.99,-1368.8 2094.73,-1353.05 2103.42,-1339.43\"/>\r\n",
       "</g>\r\n",
       "<!-- Gate 6 -->\r\n",
       "<g id=\"node31\" class=\"node\"><title>Gate 6</title>\r\n",
       "<ellipse fill=\"#b2dfee\" stroke=\"#b2dfee\" cx=\"1915.3\" cy=\"-1447.35\" rx=\"34.394\" ry=\"34.394\"/>\r\n",
       "<text text-anchor=\"middle\" x=\"1915.3\" y=\"-1443.65\" font-family=\"Times New Roman,serif\" font-size=\"14.00\">Gate 6</text>\r\n",
       "</g>\r\n",
       "<!-- General&#45;gate 4&#45;&#45;Gate 6 -->\r\n",
       "<g id=\"edge51\" class=\"edge\"><title>General&#45;gate 4&#45;&#45;Gate 6</title>\r\n",
       "<path fill=\"none\" stroke=\"black\" d=\"M2003.57,-1686.02C1980.59,-1624.15 1945.2,-1528.86 1927,-1479.85\"/>\r\n",
       "</g>\r\n",
       "<!-- Gate 7 -->\r\n",
       "<g id=\"node36\" class=\"node\"><title>Gate 7</title>\r\n",
       "<ellipse fill=\"#b2dfee\" stroke=\"#b2dfee\" cx=\"2179.3\" cy=\"-1596.44\" rx=\"34.394\" ry=\"34.394\"/>\r\n",
       "<text text-anchor=\"middle\" x=\"2179.3\" y=\"-1592.74\" font-family=\"Times New Roman,serif\" font-size=\"14.00\">Gate 7</text>\r\n",
       "</g>\r\n",
       "<!-- General&#45;gate 4&#45;&#45;Gate 7 -->\r\n",
       "<g id=\"edge50\" class=\"edge\"><title>General&#45;gate 4&#45;&#45;Gate 7</title>\r\n",
       "<path fill=\"none\" stroke=\"black\" d=\"M2070.67,-1701.2C2098.17,-1674.93 2132.19,-1642.43 2154.76,-1620.88\"/>\r\n",
       "</g>\r\n",
       "<!-- General&#45;gate 6&#45;&#45;Camping 6 -->\r\n",
       "<g id=\"edge146\" class=\"edge\"><title>General&#45;gate 6&#45;&#45;Camping 6</title>\r\n",
       "<path fill=\"none\" stroke=\"black\" d=\"M751.838,-531.53C757.828,-517.889 763.479,-503.102 767.298,-488.866 779.393,-443.771 783.888,-390.598 785.508,-352.834\"/>\r\n",
       "</g>\r\n",
       "<!-- General&#45;gate 6&#45;&#45;Gate 8 -->\r\n",
       "<g id=\"edge147\" class=\"edge\"><title>General&#45;gate 6&#45;&#45;Gate 8</title>\r\n",
       "<path fill=\"none\" stroke=\"black\" d=\"M676.732,-545.231C582.207,-460.626 370.613,-271.236 297.624,-205.905\"/>\r\n",
       "</g>\r\n",
       "<!-- General&#45;gate 6&#45;&#45;Gate 5 -->\r\n",
       "<g id=\"edge145\" class=\"edge\"><title>General&#45;gate 6&#45;&#45;Gate 5</title>\r\n",
       "<path fill=\"none\" stroke=\"black\" d=\"M768.701,-543.787C778.507,-536.424 789.264,-529.628 800.298,-524.866 908.216,-478.295 948.411,-517.938 1062.3,-488.866 1096.66,-480.095 1134.4,-465.073 1160.14,-453.96\"/>\r\n",
       "</g>\r\n",
       "<!-- General&#45;gate 6&#45;&#45;Entrance 4 -->\r\n",
       "<g id=\"edge148\" class=\"edge\"><title>General&#45;gate 6&#45;&#45;Entrance 4</title>\r\n",
       "<path fill=\"none\" stroke=\"black\" d=\"M769.381,-544.433C880.642,-441.876 1162.14,-182.399 1262.27,-90.1087\"/>\r\n",
       "</g>\r\n",
       "<!-- Camping 7 -->\r\n",
       "<g id=\"node39\" class=\"node\"><title>Camping 7</title>\r\n",
       "<ellipse fill=\"#b2dfee\" stroke=\"#b2dfee\" cx=\"708.298\" cy=\"-438.821\" rx=\"50.0912\" ry=\"50.0912\"/>\r\n",
       "<text text-anchor=\"middle\" x=\"708.298\" y=\"-435.121\" font-family=\"Times New Roman,serif\" font-size=\"14.00\">Camping 7</text>\r\n",
       "</g>\r\n",
       "<!-- General&#45;gate 6&#45;&#45;Camping 7 -->\r\n",
       "<g id=\"edge144\" class=\"edge\"><title>General&#45;gate 6&#45;&#45;Camping 7</title>\r\n",
       "<path fill=\"none\" stroke=\"black\" d=\"M716.98,-524.958C715.747,-512.867 714.47,-500.347 713.288,-488.75\"/>\r\n",
       "</g>\r\n",
       "<!-- General&#45;gate 1 -->\r\n",
       "<g id=\"node20\" class=\"node\"><title>General&#45;gate 1</title>\r\n",
       "<ellipse fill=\"#b2dfee\" stroke=\"#b2dfee\" cx=\"2033.3\" cy=\"-2392.59\" rx=\"63.0888\" ry=\"63.0888\"/>\r\n",
       "<text text-anchor=\"middle\" x=\"2033.3\" y=\"-2388.89\" font-family=\"Times New Roman,serif\" font-size=\"14.00\">General&#45;gate 1</text>\r\n",
       "</g>\r\n",
       "<!-- General&#45;gate 1&#45;&#45;Ranger&#45;stop 2 -->\r\n",
       "<g id=\"edge32\" class=\"edge\"><title>General&#45;gate 1&#45;&#45;Ranger&#45;stop 2</title>\r\n",
       "<path fill=\"none\" stroke=\"black\" d=\"M1977.36,-2362.86C1939.68,-2343.43 1888.91,-2317.12 1844.3,-2293.54 1824.92,-2283.3 1803.77,-2271.96 1785,-2261.83\"/>\r\n",
       "</g>\r\n",
       "<!-- General&#45;gate 1&#45;&#45;General&#45;gate 4 -->\r\n",
       "<g id=\"edge33\" class=\"edge\"><title>General&#45;gate 1&#45;&#45;General&#45;gate 4</title>\r\n",
       "<path fill=\"none\" stroke=\"black\" d=\"M2019.08,-2330.85C1997.47,-2229.44 1961.83,-2019.51 1991.3,-1844.58 1993.54,-1831.25 1997.39,-1817.32 2001.71,-1804.28\"/>\r\n",
       "</g>\r\n",
       "<!-- Gate 0 -->\r\n",
       "<g id=\"node27\" class=\"node\"><title>Gate 0</title>\r\n",
       "<ellipse fill=\"#b2dfee\" stroke=\"#b2dfee\" cx=\"2110.3\" cy=\"-2231.15\" rx=\"34.394\" ry=\"34.394\"/>\r\n",
       "<text text-anchor=\"middle\" x=\"2110.3\" y=\"-2227.45\" font-family=\"Times New Roman,serif\" font-size=\"14.00\">Gate 0</text>\r\n",
       "</g>\r\n",
       "<!-- General&#45;gate 1&#45;&#45;Gate 0 -->\r\n",
       "<g id=\"edge31\" class=\"edge\"><title>General&#45;gate 1&#45;&#45;Gate 0</title>\r\n",
       "<path fill=\"none\" stroke=\"black\" d=\"M2060.45,-2335.38C2072.31,-2310.81 2085.75,-2282.98 2095.69,-2262.4\"/>\r\n",
       "</g>\r\n",
       "<!-- General&#45;gate 1&#45;&#45;General&#45;gate 7 -->\r\n",
       "<g id=\"edge34\" class=\"edge\"><title>General&#45;gate 1&#45;&#45;General&#45;gate 7</title>\r\n",
       "<path fill=\"none\" stroke=\"black\" d=\"M2037.16,-2329.44C2042.91,-2236.83 2053.67,-2063.61 2059.43,-1970.92\"/>\r\n",
       "</g>\r\n",
       "<!-- General&#45;gate 1&#45;&#45;Entrance 3 -->\r\n",
       "<g id=\"edge37\" class=\"edge\"><title>General&#45;gate 1&#45;&#45;Entrance 3</title>\r\n",
       "<path fill=\"none\" stroke=\"black\" d=\"M2088.99,-2362.47C2142.24,-2334.55 2214.83,-2296.23 2217.3,-2293.54 2387.5,-2108.37 2362.3,-1998.05 2362.3,-1746.53 2362.3,-1746.53 2362.3,-1746.53 2362.3,-1595.44 2362.3,-1499.31 2375.66,-1459.13 2315.3,-1384.31 2281.58,-1342.51 2222.5,-1320.5 2180.6,-1309.57\"/>\r\n",
       "</g>\r\n",
       "<!-- General&#45;gate 1&#45;&#45;Gate 6 -->\r\n",
       "<g id=\"edge36\" class=\"edge\"><title>General&#45;gate 1&#45;&#45;Gate 6</title>\r\n",
       "<path fill=\"none\" stroke=\"black\" d=\"M1989.81,-2346.64C1937.99,-2288.12 1858.3,-2180.33 1858.3,-2070.71 1858.3,-2070.71 1858.3,-2070.71 1858.3,-1744.53 1858.3,-1646.88 1888.55,-1534.31 1904.98,-1480.4\"/>\r\n",
       "</g>\r\n",
       "<!-- General&#45;gate 1&#45;&#45;Gate 7 -->\r\n",
       "<g id=\"edge35\" class=\"edge\"><title>General&#45;gate 1&#45;&#45;Gate 7</title>\r\n",
       "<path fill=\"none\" stroke=\"black\" d=\"M2084.61,-2355.61C2142.54,-2311.2 2232.58,-2229.55 2262.3,-2132.76 2319.5,-1946.43 2229.69,-1710.94 2193.4,-1628.02\"/>\r\n",
       "</g>\r\n",
       "<!-- Entrance 2&#45;&#45;Camping 6 -->\r\n",
       "<g id=\"edge135\" class=\"edge\"><title>Entrance 2&#45;&#45;Camping 6</title>\r\n",
       "<path fill=\"none\" stroke=\"black\" d=\"M967.911,-799.953C936.993,-753.918 889.295,-681.071 876.298,-650.955 832.375,-549.18 806.021,-421.067 794.039,-352.446\"/>\r\n",
       "</g>\r\n",
       "<!-- Entrance 2&#45;&#45;Gate 8 -->\r\n",
       "<g id=\"edge136\" class=\"edge\"><title>Entrance 2&#45;&#45;Gate 8</title>\r\n",
       "<path fill=\"none\" stroke=\"black\" d=\"M950.314,-820.43C882.254,-789.392 750.534,-725.129 651.298,-650.955 500.469,-538.218 458.273,-507.049 350.298,-352.775 319.459,-308.712 295.817,-250.507 283.006,-215.028\"/>\r\n",
       "</g>\r\n",
       "<!-- Entrance 2&#45;&#45;Gate 5 -->\r\n",
       "<g id=\"edge134\" class=\"edge\"><title>Entrance 2&#45;&#45;Gate 5</title>\r\n",
       "<path fill=\"none\" stroke=\"black\" d=\"M986.188,-792.534C976.301,-726.365 968.503,-605.762 1023.3,-524.866 1039.71,-500.642 1115.3,-468.714 1159.3,-451.7\"/>\r\n",
       "</g>\r\n",
       "<!-- Entrance 2&#45;&#45;General&#45;gate 6 -->\r\n",
       "<g id=\"edge133\" class=\"edge\"><title>Entrance 2&#45;&#45;General&#45;gate 6</title>\r\n",
       "<path fill=\"none\" stroke=\"black\" d=\"M957.688,-808.657C940.573,-793.477 920.558,-774.547 904.298,-755.849 879.809,-727.689 882.331,-713.693 856.298,-686.955 832.484,-662.497 802.071,-639.591 776.34,-622.08\"/>\r\n",
       "</g>\r\n",
       "<!-- Entrance 2&#45;&#45;Gate 4 -->\r\n",
       "<g id=\"edge132\" class=\"edge\"><title>Entrance 2&#45;&#45;Gate 4</title>\r\n",
       "<path fill=\"none\" stroke=\"black\" d=\"M1024.6,-801.005C1037.2,-784.132 1051.62,-764.827 1063.01,-749.572\"/>\r\n",
       "</g>\r\n",
       "<!-- Entrance 2&#45;&#45;Entrance 4 -->\r\n",
       "<g id=\"edge137\" class=\"edge\"><title>Entrance 2&#45;&#45;Entrance 4</title>\r\n",
       "<path fill=\"none\" stroke=\"black\" d=\"M1040.09,-819.433C1098.36,-790.077 1199.29,-731.022 1255.3,-650.955 1374.28,-480.852 1333.1,-212.222 1309.78,-104.193\"/>\r\n",
       "</g>\r\n",
       "<!-- General&#45;gate 2&#45;&#45;Camping 8 -->\r\n",
       "<g id=\"edge61\" class=\"edge\"><title>General&#45;gate 2&#45;&#45;Camping 8</title>\r\n",
       "<path fill=\"none\" stroke=\"black\" d=\"M1046.88,-1861.56C1038.08,-1854.75 1028.4,-1848.65 1018.3,-1844.58 951.63,-1817.68 424.572,-1857.93 372.298,-1808.58 303.625,-1743.75 348.298,-1691.89 348.298,-1597.44 348.298,-1597.44 348.298,-1597.44 348.298,-1446.35 348.298,-1355.72 383.304,-1254.47 406.413,-1197.51\"/>\r\n",
       "</g>\r\n",
       "<!-- General&#45;gate 2&#45;&#45;General&#45;gate 0 -->\r\n",
       "<g id=\"edge58\" class=\"edge\"><title>General&#45;gate 2&#45;&#45;General&#45;gate 0</title>\r\n",
       "<path fill=\"none\" stroke=\"black\" d=\"M1090.3,-1844.27C1090.3,-1832.59 1090.3,-1820.39 1090.3,-1808.72\"/>\r\n",
       "</g>\r\n",
       "<!-- General&#45;gate 2&#45;&#45;Camping 6 -->\r\n",
       "<g id=\"edge68\" class=\"edge\"><title>General&#45;gate 2&#45;&#45;Camping 6</title>\r\n",
       "<path fill=\"none\" stroke=\"black\" d=\"M1046.91,-1861.48C1038.1,-1854.68 1028.42,-1848.61 1018.3,-1844.58 937.998,-1812.62 307.856,-1863.71 241.298,-1808.58 62.3381,-1660.34 120.298,-1532.29 120.298,-1299.91 120.298,-1299.91 120.298,-1299.91 120.298,-988.685 120.298,-692.925 176.891,-572.961 408.298,-388.775 458.822,-348.561 646.185,-320.83 736.709,-309.478\"/>\r\n",
       "</g>\r\n",
       "<!-- General&#45;gate 2&#45;&#45;Gate 8 -->\r\n",
       "<g id=\"edge69\" class=\"edge\"><title>General&#45;gate 2&#45;&#45;Gate 8</title>\r\n",
       "<path fill=\"none\" stroke=\"black\" d=\"M1046.93,-1861.43C1038.12,-1854.64 1028.43,-1848.58 1018.3,-1844.58 926.965,-1808.52 219.942,-1858.35 135.298,-1808.58 40.504,-1752.84 6.29783,-1707.41 6.29783,-1597.44 6.29783,-1597.44 6.29783,-1597.44 6.29783,-437.821 6.29783,-354.534 -19.6552,-315.268 35.2978,-252.684 86.9269,-193.885 185.391,-183.627 237.675,-182.583\"/>\r\n",
       "</g>\r\n",
       "<!-- General&#45;gate 2&#45;&#45;Gate 5 -->\r\n",
       "<g id=\"edge67\" class=\"edge\"><title>General&#45;gate 2&#45;&#45;Gate 5</title>\r\n",
       "<path fill=\"none\" stroke=\"black\" d=\"M1153.63,-1905.13C1233.1,-1900.1 1369.7,-1880.66 1458.3,-1808.58 1539.75,-1742.31 1564.3,-1702.44 1564.3,-1597.44 1564.3,-1597.44 1564.3,-1597.44 1564.3,-1297.91 1564.3,-940.573 1597.66,-775.845 1343.3,-524.866 1305.78,-487.846 1273.69,-518.789 1230.3,-488.866 1222.42,-483.431 1215.35,-475.938 1209.46,-468.443\"/>\r\n",
       "</g>\r\n",
       "<!-- General&#45;gate 2&#45;&#45;General&#45;gate 6 -->\r\n",
       "<g id=\"edge66\" class=\"edge\"><title>General&#45;gate 2&#45;&#45;General&#45;gate 6</title>\r\n",
       "<path fill=\"none\" stroke=\"black\" d=\"M1046.89,-1861.53C1038.09,-1854.72 1028.4,-1848.64 1018.3,-1844.58 947.26,-1816.06 382.993,-1864.1 330.298,-1808.58 109.77,-1576.21 279.856,-1396.92 367.298,-1088.73 421.213,-898.703 424.179,-832.887 557.298,-686.955 587.073,-654.314 630.277,-629.267 665.145,-612.661\"/>\r\n",
       "</g>\r\n",
       "<!-- General&#45;gate 2&#45;&#45;Entrance 2 -->\r\n",
       "<g id=\"edge63\" class=\"edge\"><title>General&#45;gate 2&#45;&#45;Entrance 2</title>\r\n",
       "<path fill=\"none\" stroke=\"black\" d=\"M1139,-1867.04C1155.45,-1850.79 1172,-1830.62 1181.3,-1808.58 1254.64,-1634.73 1225.87,-1570.66 1196.3,-1384.31 1162.77,-1173.04 1137.15,-1120.77 1047.3,-926.64 1040.36,-911.647 1031.31,-896.03 1022.71,-882.366\"/>\r\n",
       "</g>\r\n",
       "<!-- General&#45;gate 2&#45;&#45;General&#45;gate 3 -->\r\n",
       "<g id=\"edge62\" class=\"edge\"><title>General&#45;gate 2&#45;&#45;General&#45;gate 3</title>\r\n",
       "<path fill=\"none\" stroke=\"black\" d=\"M1046.66,-1862.07C1037.88,-1855.21 1028.27,-1848.96 1018.3,-1844.58 893.768,-1789.78 833.767,-1873.68 714.298,-1808.58 632.223,-1763.85 624.98,-1728.59 580.298,-1646.49 461.684,-1428.55 458.748,-1316.87 556.298,-1088.73 564.718,-1069.04 578.386,-1050.19 592.117,-1034.38\"/>\r\n",
       "</g>\r\n",
       "<!-- General&#45;gate 2&#45;&#45;Gate 3 -->\r\n",
       "<g id=\"edge60\" class=\"edge\"><title>General&#45;gate 2&#45;&#45;Gate 3</title>\r\n",
       "<path fill=\"none\" stroke=\"black\" d=\"M1133.26,-1860.69C1145.01,-1845.28 1156.18,-1827.24 1162.3,-1808.58 1179.75,-1755.33 1167.58,-1738.28 1162.3,-1682.49 1149.57,-1548.17 1166.86,-1504.37 1105.3,-1384.31 1092.49,-1359.34 1070.01,-1336.6 1052.13,-1321.04\"/>\r\n",
       "</g>\r\n",
       "<!-- General&#45;gate 2&#45;&#45;Gate 4 -->\r\n",
       "<g id=\"edge65\" class=\"edge\"><title>General&#45;gate 2&#45;&#45;Gate 4</title>\r\n",
       "<path fill=\"none\" stroke=\"black\" d=\"M1151.84,-1893.38C1272.02,-1863.5 1526.3,-1778.86 1526.3,-1597.44 1526.3,-1597.44 1526.3,-1597.44 1526.3,-1297.91 1526.3,-1204.33 1545.69,-1171.64 1502.3,-1088.73 1409.67,-911.732 1193.37,-781.691 1113.57,-738.207\"/>\r\n",
       "</g>\r\n",
       "<!-- General&#45;gate 2&#45;&#45;General&#45;gate 5 -->\r\n",
       "<g id=\"edge64\" class=\"edge\"><title>General&#45;gate 2&#45;&#45;General&#45;gate 5</title>\r\n",
       "<path fill=\"none\" stroke=\"black\" d=\"M1045.03,-1863.09C1036.56,-1856.3 1027.47,-1849.81 1018.3,-1844.58 974.703,-1819.74 955.858,-1831.64 911.298,-1808.58 802.802,-1752.42 758.117,-1747.43 689.298,-1646.49 661.752,-1606.09 648.795,-1551.93 642.702,-1510.44\"/>\r\n",
       "</g>\r\n",
       "<!-- General&#45;gate 2&#45;&#45;Entrance 4 -->\r\n",
       "<g id=\"edge70\" class=\"edge\"><title>General&#45;gate 2&#45;&#45;Entrance 4</title>\r\n",
       "<path fill=\"none\" stroke=\"black\" d=\"M1153.11,-1899.24C1258.6,-1885.74 1465.29,-1854.19 1521.3,-1808.58 1769.87,-1606.11 1820.3,-1472.72 1820.3,-1152.12 1820.3,-1152.12 1820.3,-1152.12 1820.3,-301.73 1820.3,-271.885 1769.08,-171.028 1737.3,-147.79 1675.41,-102.543 1448.8,-73.1081 1347.64,-61.9436\"/>\r\n",
       "</g>\r\n",
       "<!-- General&#45;gate 2&#45;&#45;Camping 1 -->\r\n",
       "<g id=\"edge59\" class=\"edge\"><title>General&#45;gate 2&#45;&#45;Camping 1</title>\r\n",
       "<path fill=\"none\" stroke=\"black\" d=\"M1051.12,-1857.97C1001.68,-1796.58 917.646,-1692.24 872.382,-1636.04\"/>\r\n",
       "</g>\r\n",
       "<!-- General&#45;gate 3&#45;&#45;Camping 6 -->\r\n",
       "<g id=\"edge129\" class=\"edge\"><title>General&#45;gate 3&#45;&#45;Camping 6</title>\r\n",
       "<path fill=\"none\" stroke=\"black\" d=\"M620.831,-928.429C593.287,-814.434 550.072,-563.036 649.298,-388.775 668.622,-354.838 707.566,-332.634 739.01,-319.453\"/>\r\n",
       "</g>\r\n",
       "<!-- General&#45;gate 3&#45;&#45;Gate 8 -->\r\n",
       "<g id=\"edge130\" class=\"edge\"><title>General&#45;gate 3&#45;&#45;Gate 8</title>\r\n",
       "<path fill=\"none\" stroke=\"black\" d=\"M575.085,-978.071C523.267,-965.921 451.515,-940.81 410.298,-890.64 239.918,-683.254 258.173,-326.762 268.569,-216.63\"/>\r\n",
       "</g>\r\n",
       "<!-- General&#45;gate 3&#45;&#45;Gate 5 -->\r\n",
       "<g id=\"edge128\" class=\"edge\"><title>General&#45;gate 3&#45;&#45;Gate 5</title>\r\n",
       "<path fill=\"none\" stroke=\"black\" d=\"M667.619,-934.301C690.754,-894.013 724.185,-838.284 757.298,-791.849 846.732,-666.433 853.796,-615.569 978.298,-524.866 986.022,-519.239 1101.97,-474.215 1159.46,-452.054\"/>\r\n",
       "</g>\r\n",
       "<!-- General&#45;gate 3&#45;&#45;General&#45;gate 6 -->\r\n",
       "<g id=\"edge127\" class=\"edge\"><title>General&#45;gate 3&#45;&#45;General&#45;gate 6</title>\r\n",
       "<path fill=\"none\" stroke=\"black\" d=\"M655.902,-929.319C659.587,-916.62 663.254,-903.235 666.298,-890.64 686.243,-808.12 703.431,-711.506 713.574,-650.265\"/>\r\n",
       "</g>\r\n",
       "<!-- General&#45;gate 3&#45;&#45;Entrance 2 -->\r\n",
       "<g id=\"edge125\" class=\"edge\"><title>General&#45;gate 3&#45;&#45;Entrance 2</title>\r\n",
       "<path fill=\"none\" stroke=\"black\" d=\"M691.388,-957.188C710.327,-946.785 731.949,-935.594 752.298,-926.64 818.519,-897.502 898.239,-871.445 947.855,-856.239\"/>\r\n",
       "</g>\r\n",
       "<!-- General&#45;gate 3&#45;&#45;Gate 4 -->\r\n",
       "<g id=\"edge126\" class=\"edge\"><title>General&#45;gate 3&#45;&#45;Gate 4</title>\r\n",
       "<path fill=\"none\" stroke=\"black\" d=\"M685.822,-948.842C695.191,-941.362 704.988,-933.683 714.298,-926.64 796.869,-864.176 813.119,-840.901 904.298,-791.849 953.027,-765.634 1013.82,-744.216 1050.55,-732.397\"/>\r\n",
       "</g>\r\n",
       "<!-- General&#45;gate 3&#45;&#45;Entrance 4 -->\r\n",
       "<g id=\"edge131\" class=\"edge\"><title>General&#45;gate 3&#45;&#45;Entrance 4</title>\r\n",
       "<path fill=\"none\" stroke=\"black\" d=\"M603.7,-936.035C564.839,-871.727 503.148,-758.219 479.298,-650.955 453.456,-534.733 460.33,-482.072 534.298,-388.775 721.844,-152.221 1111.53,-80.7779 1248.99,-62.4638\"/>\r\n",
       "</g>\r\n",
       "<!-- Gate 3&#45;&#45;Camping 8 -->\r\n",
       "<g id=\"edge108\" class=\"edge\"><title>Gate 3&#45;&#45;Camping 8</title>\r\n",
       "<path fill=\"none\" stroke=\"black\" d=\"M991.809,-1289.76C891.41,-1265.33 592.6,-1192.6 474.808,-1163.93\"/>\r\n",
       "</g>\r\n",
       "<!-- Gate 3&#45;&#45;Camping 6 -->\r\n",
       "<g id=\"edge114\" class=\"edge\"><title>Gate 3&#45;&#45;Camping 6</title>\r\n",
       "<path fill=\"none\" stroke=\"black\" d=\"M1054.4,-1279.78C1078.72,-1263.9 1113.62,-1239.37 1140.3,-1213.52 1205.5,-1150.34 1225.16,-1133.67 1266.3,-1052.73 1373.93,-840.953 1432.41,-747.781 1350.3,-524.866 1322.83,-450.289 1303.02,-428.696 1234.3,-388.775 1166.87,-349.606 937.922,-320.358 835.973,-308.958\"/>\r\n",
       "</g>\r\n",
       "<!-- Gate 3&#45;&#45;Gate 8 -->\r\n",
       "<g id=\"edge115\" class=\"edge\"><title>Gate 3&#45;&#45;Gate 8</title>\r\n",
       "<path fill=\"none\" stroke=\"black\" d=\"M990.86,-1297.6C870.401,-1295.9 469.714,-1284.86 367.298,-1213.52 247.201,-1129.85 158.298,-735.277 158.298,-588.911 158.298,-588.911 158.298,-588.911 158.298,-437.821 158.298,-347.746 218.478,-254.168 251.388,-209.727\"/>\r\n",
       "</g>\r\n",
       "<!-- Gate 3&#45;&#45;Gate 5 -->\r\n",
       "<g id=\"edge113\" class=\"edge\"><title>Gate 3&#45;&#45;Gate 5</title>\r\n",
       "<path fill=\"none\" stroke=\"black\" d=\"M1043.89,-1269.57C1079.31,-1215.8 1154.36,-1103.05 1170.3,-1088.73 1195.15,-1066.4 1217.64,-1080.45 1236.3,-1052.73 1288.88,-974.623 1260.3,-936.399 1260.3,-842.245 1260.3,-842.245 1260.3,-842.245 1260.3,-720.402 1260.3,-632.845 1262.54,-608.398 1236.3,-524.866 1230.04,-504.946 1219.16,-484.202 1209.67,-468.189\"/>\r\n",
       "</g>\r\n",
       "<!-- Gate 3&#45;&#45;General&#45;gate 6 -->\r\n",
       "<g id=\"edge112\" class=\"edge\"><title>Gate 3&#45;&#45;General&#45;gate 6</title>\r\n",
       "<path fill=\"none\" stroke=\"black\" d=\"M1016.41,-1265.34C985.696,-1153.96 882.402,-789.522 818.298,-686.955 805.359,-666.253 787.454,-646.339 770.672,-629.929\"/>\r\n",
       "</g>\r\n",
       "<!-- Gate 3&#45;&#45;Entrance 2 -->\r\n",
       "<g id=\"edge110\" class=\"edge\"><title>Gate 3&#45;&#45;Entrance 2</title>\r\n",
       "<path fill=\"none\" stroke=\"black\" d=\"M1023.09,-1264.41C1017.85,-1184.76 1004.62,-983.86 998.499,-890.863\"/>\r\n",
       "</g>\r\n",
       "<!-- Gate 3&#45;&#45;General&#45;gate 3 -->\r\n",
       "<g id=\"edge109\" class=\"edge\"><title>Gate 3&#45;&#45;General&#45;gate 3</title>\r\n",
       "<path fill=\"none\" stroke=\"black\" d=\"M998.629,-1276.8C934.168,-1225.75 769.123,-1095.07 686.28,-1029.47\"/>\r\n",
       "</g>\r\n",
       "<!-- Gate 3&#45;&#45;Gate 4 -->\r\n",
       "<g id=\"edge111\" class=\"edge\"><title>Gate 3&#45;&#45;Gate 4</title>\r\n",
       "<path fill=\"none\" stroke=\"black\" d=\"M1035.46,-1265.82C1049.61,-1219.38 1074.59,-1130.49 1084.3,-1052.73 1093.23,-981.239 1085.85,-962.684 1086.3,-890.64 1086.57,-846.734 1087.25,-835.746 1086.3,-791.849 1086.05,-780.146 1085.55,-767.341 1085.04,-755.949\"/>\r\n",
       "</g>\r\n",
       "<!-- Gate 3&#45;&#45;Entrance 4 -->\r\n",
       "<g id=\"edge116\" class=\"edge\"><title>Gate 3&#45;&#45;Entrance 4</title>\r\n",
       "<path fill=\"none\" stroke=\"black\" d=\"M1058.51,-1288.82C1097.79,-1276.76 1163.49,-1252.36 1208.3,-1213.52 1257.42,-1170.94 1526.3,-787.411 1526.3,-722.402 1526.3,-722.402 1526.3,-722.402 1526.3,-301.73 1526.3,-194.857 1408.51,-115.132 1342.26,-78.7403\"/>\r\n",
       "</g>\r\n",
       "<!-- Gate 4&#45;&#45;Camping 6 -->\r\n",
       "<g id=\"edge141\" class=\"edge\"><title>Gate 4&#45;&#45;Camping 6</title>\r\n",
       "<path fill=\"none\" stroke=\"black\" d=\"M1059.97,-695.546C1048.39,-682.677 1034.5,-666.449 1023.3,-650.955 943.715,-540.894 948.19,-497.129 866.298,-388.775 852.976,-371.148 836.495,-353.114 821.961,-338.214\"/>\r\n",
       "</g>\r\n",
       "<!-- Gate 4&#45;&#45;Gate 8 -->\r\n",
       "<g id=\"edge142\" class=\"edge\"><title>Gate 4&#45;&#45;Gate 8</title>\r\n",
       "<path fill=\"none\" stroke=\"black\" d=\"M1059.47,-696.405C1047.61,-683.628 1033.64,-667.223 1023.3,-650.955 919.256,-487.351 1001.32,-367.778 845.298,-252.684 759.113,-189.109 417.377,-183.284 306.926,-183.092\"/>\r\n",
       "</g>\r\n",
       "<!-- Gate 4&#45;&#45;Ranger&#45;stop 5 -->\r\n",
       "<g id=\"edge138\" class=\"edge\"><title>Gate 4&#45;&#45;Ranger&#45;stop 5</title>\r\n",
       "<path fill=\"none\" stroke=\"red\" stroke-width=\"10\" d=\"M1086.1,-686.881C1087.04,-675.696 1088.11,-662.858 1089.17,-650.237\"/>\r\n",
       "</g>\r\n",
       "<!-- Gate 4&#45;&#45;Gate 5 -->\r\n",
       "<g id=\"edge140\" class=\"edge\"><title>Gate 4&#45;&#45;Gate 5</title>\r\n",
       "<path fill=\"none\" stroke=\"black\" d=\"M1112.92,-703.375C1131.18,-691.214 1153.33,-673.113 1165.3,-650.955 1195.93,-594.254 1196.88,-516.752 1194.38,-473.152\"/>\r\n",
       "</g>\r\n",
       "<!-- Gate 4&#45;&#45;General&#45;gate 6 -->\r\n",
       "<g id=\"edge139\" class=\"edge\"><title>Gate 4&#45;&#45;General&#45;gate 6</title>\r\n",
       "<path fill=\"none\" stroke=\"black\" d=\"M1050.45,-710.073C1009.45,-697.019 937.265,-673.519 876.298,-650.955 844.578,-639.215 809.593,-625.116 781.092,-613.326\"/>\r\n",
       "</g>\r\n",
       "<!-- Gate 4&#45;&#45;Entrance 4 -->\r\n",
       "<g id=\"edge143\" class=\"edge\"><title>Gate 4&#45;&#45;Entrance 4</title>\r\n",
       "<path fill=\"none\" stroke=\"black\" d=\"M1114.84,-706.595C1139.07,-694.706 1172.05,-675.582 1194.3,-650.955 1264.42,-573.336 1298.3,-544.425 1298.3,-439.821 1298.3,-439.821 1298.3,-439.821 1298.3,-301.73 1298.3,-233.72 1298.3,-155.084 1298.3,-105.671\"/>\r\n",
       "</g>\r\n",
       "<!-- Ranger&#45;stop 6 -->\r\n",
       "<g id=\"node26\" class=\"node\"><title>Ranger&#45;stop 6</title>\r\n",
       "<ellipse fill=\"#b2dfee\" stroke=\"#b2dfee\" cx=\"1692.3\" cy=\"-1151.12\" rx=\"62.2891\" ry=\"62.2891\"/>\r\n",
       "<text text-anchor=\"middle\" x=\"1692.3\" y=\"-1147.42\" font-family=\"Times New Roman,serif\" font-size=\"14.00\">Ranger&#45;stop 6</text>\r\n",
       "</g>\r\n",
       "<!-- Ranger&#45;stop 6&#45;&#45;Gate 5 -->\r\n",
       "<g id=\"edge73\" class=\"edge\"><title>Ranger&#45;stop 6&#45;&#45;Gate 5</title>\r\n",
       "<path fill=\"none\" stroke=\"red\" stroke-width=\"10\" d=\"M1684.67,-1089.18C1665.57,-963.423 1603.78,-674.43 1426.3,-524.866 1366.58,-474.54 1274.66,-452.94 1225.34,-444.55\"/>\r\n",
       "</g>\r\n",
       "<!-- Gate 0&#45;&#45;Gate 1 -->\r\n",
       "<g id=\"edge38\" class=\"edge\"><title>Gate 0&#45;&#45;Gate 1</title>\r\n",
       "<path fill=\"none\" stroke=\"red\" stroke-width=\"10\" d=\"M2076.63,-2222.49C2020.03,-2209.82 1902.1,-2184.38 1801.3,-2168.76 1730.15,-2157.73 1541.32,-2169.32 1479.3,-2132.76 1466.78,-2125.38 1456.9,-2112.89 1449.7,-2101.04\"/>\r\n",
       "</g>\r\n",
       "<!-- Gate 0&#45;&#45;General&#45;gate 4 -->\r\n",
       "<g id=\"edge39\" class=\"edge\"><title>Gate 0&#45;&#45;General&#45;gate 4</title>\r\n",
       "<path fill=\"none\" stroke=\"black\" d=\"M2116.33,-2197.21C2130.63,-2115.8 2163.35,-1907.17 2135.3,-1844.58 2123.47,-1818.2 2100.66,-1796 2078.85,-1779.44\"/>\r\n",
       "</g>\r\n",
       "<!-- Gate 0&#45;&#45;General&#45;gate 7 -->\r\n",
       "<g id=\"edge40\" class=\"edge\"><title>Gate 0&#45;&#45;General&#45;gate 7</title>\r\n",
       "<path fill=\"none\" stroke=\"black\" d=\"M2105.45,-2196.95C2097.63,-2143.52 2082.16,-2037.63 2072.29,-1970.11\"/>\r\n",
       "</g>\r\n",
       "<!-- Gate 0&#45;&#45;Entrance 3 -->\r\n",
       "<g id=\"edge43\" class=\"edge\"><title>Gate 0&#45;&#45;Entrance 3</title>\r\n",
       "<path fill=\"none\" stroke=\"black\" d=\"M2129.6,-2202.01C2147.32,-2175.97 2171.28,-2140.21 2174.3,-2132.76 2280.1,-1871.77 2266.73,-1790.76 2293.3,-1510.4 2298.58,-1454.61 2322.3,-1432.26 2293.3,-1384.31 2268.96,-1344.07 2218.41,-1322.09 2180.41,-1310.73\"/>\r\n",
       "</g>\r\n",
       "<!-- Gate 0&#45;&#45;Gate 6 -->\r\n",
       "<g id=\"edge42\" class=\"edge\"><title>Gate 0&#45;&#45;Gate 6</title>\r\n",
       "<path fill=\"none\" stroke=\"black\" d=\"M2095.81,-2199.56C2073.02,-2151.21 2027.63,-2054.04 1991.3,-1970.67 1960.16,-1899.21 1941.83,-1884.53 1924.3,-1808.58 1908.07,-1738.25 1916.52,-1718.63 1914.3,-1646.49 1912.52,-1588.73 1913.5,-1521.45 1914.39,-1482.02\"/>\r\n",
       "</g>\r\n",
       "<!-- Gate 0&#45;&#45;Gate 7 -->\r\n",
       "<g id=\"edge41\" class=\"edge\"><title>Gate 0&#45;&#45;Gate 7</title>\r\n",
       "<path fill=\"none\" stroke=\"black\" d=\"M2125.41,-2199.83C2134.04,-2181.01 2144.13,-2156.05 2149.3,-2132.76 2190.6,-1946.7 2185.02,-1715.83 2181.14,-1630.85\"/>\r\n",
       "</g>\r\n",
       "<!-- Gate 2&#45;&#45;Camping 4 -->\r\n",
       "<g id=\"edge10\" class=\"edge\"><title>Gate 2&#45;&#45;Camping 4</title>\r\n",
       "<path fill=\"none\" stroke=\"black\" d=\"M1221.83,-2370.53C1197.88,-2351.16 1161.91,-2321.33 1132.3,-2293.54 1123.89,-2285.66 1115.13,-2276.87 1107.01,-2268.48\"/>\r\n",
       "</g>\r\n",
       "<!-- Gate 2&#45;&#45;Gate 1 -->\r\n",
       "<g id=\"edge11\" class=\"edge\"><title>Gate 2&#45;&#45;Gate 1</title>\r\n",
       "<path fill=\"none\" stroke=\"black\" d=\"M1267.23,-2363.71C1279.7,-2344.55 1295.78,-2318.21 1307.3,-2293.54 1332.11,-2240.39 1318.87,-2218.29 1350.3,-2168.76 1362.59,-2149.38 1372.02,-2149.87 1387.3,-2132.76 1397.09,-2121.78 1407.17,-2109.03 1415.54,-2097.94\"/>\r\n",
       "</g>\r\n",
       "<!-- Gate 2&#45;&#45;Camping 2 -->\r\n",
       "<g id=\"edge9\" class=\"edge\"><title>Gate 2&#45;&#45;Camping 2</title>\r\n",
       "<path fill=\"none\" stroke=\"black\" d=\"M1272.4,-2367.72C1299.33,-2341.05 1343.19,-2297.62 1373.99,-2267.12\"/>\r\n",
       "</g>\r\n",
       "<!-- Gate 2&#45;&#45;Camping 0 -->\r\n",
       "<g id=\"edge12\" class=\"edge\"><title>Gate 2&#45;&#45;Camping 0</title>\r\n",
       "<path fill=\"none\" stroke=\"black\" d=\"M1214.1,-2388.12C1156.99,-2380.63 1041.59,-2358.04 971.298,-2293.54 874.355,-2204.6 862.157,-2133.17 898.298,-2006.67 904.356,-1985.46 916.47,-1964.38 928.318,-1947.23\"/>\r\n",
       "</g>\r\n",
       "<!-- Gate 2&#45;&#45;General&#45;gate 2 -->\r\n",
       "<g id=\"edge13\" class=\"edge\"><title>Gate 2&#45;&#45;General&#45;gate 2</title>\r\n",
       "<path fill=\"none\" stroke=\"black\" d=\"M1256.97,-2358.91C1262.03,-2339.85 1268.53,-2315.33 1274.3,-2293.54 1288.98,-2238.09 1275.48,-2216.49 1307.3,-2168.76 1321.89,-2146.86 1342.65,-2156.35 1354.3,-2132.76 1379.11,-2082.51 1386.29,-2052.68 1354.3,-2006.67 1309.22,-1941.84 1215.95,-1919.79 1153.23,-1912.34\"/>\r\n",
       "</g>\r\n",
       "<!-- General&#45;gate 7&#45;&#45;General&#45;gate 4 -->\r\n",
       "<g id=\"edge47\" class=\"edge\"><title>General&#45;gate 7&#45;&#45;General&#45;gate 4</title>\r\n",
       "<path fill=\"none\" stroke=\"black\" d=\"M2048.93,-1846.1C2045.91,-1833.35 2042.71,-1819.9 2039.68,-1807.14\"/>\r\n",
       "</g>\r\n",
       "<!-- General&#45;gate 7&#45;&#45;Entrance 3 -->\r\n",
       "<g id=\"edge49\" class=\"edge\"><title>General&#45;gate 7&#45;&#45;Entrance 3</title>\r\n",
       "<path fill=\"none\" stroke=\"black\" d=\"M2086.2,-1848.75C2090.56,-1835.71 2094.6,-1821.82 2097.3,-1808.58 2115.06,-1721.52 2126.49,-1458.2 2130.59,-1348.6\"/>\r\n",
       "</g>\r\n",
       "<!-- General&#45;gate 7&#45;&#45;Gate 6 -->\r\n",
       "<g id=\"edge48\" class=\"edge\"><title>General&#45;gate 7&#45;&#45;Gate 6</title>\r\n",
       "<path fill=\"none\" stroke=\"black\" d=\"M2010.45,-1872.66C1989.06,-1856.02 1966.37,-1834.07 1953.3,-1808.58 1924.27,-1751.99 1917.39,-1559.98 1915.78,-1481.84\"/>\r\n",
       "</g>\r\n",
       "<!-- General&#45;gate 7&#45;&#45;Gate 7 -->\r\n",
       "<g id=\"edge46\" class=\"edge\"><title>General&#45;gate 7&#45;&#45;Gate 7</title>\r\n",
       "<path fill=\"none\" stroke=\"black\" d=\"M2102.04,-1857.59C2112.46,-1842.54 2122.88,-1825.47 2130.3,-1808.58 2156.47,-1748.97 2169.65,-1673.51 2175.44,-1630.84\"/>\r\n",
       "</g>\r\n",
       "<!-- Gate 6&#45;&#45;Ranger&#45;stop 6 -->\r\n",
       "<g id=\"edge71\" class=\"edge\"><title>Gate 6&#45;&#45;Ranger&#45;stop 6</title>\r\n",
       "<path fill=\"none\" stroke=\"red\" stroke-width=\"10\" d=\"M1894.92,-1419.46C1857.45,-1370.02 1777.11,-1264.03 1729.62,-1201.37\"/>\r\n",
       "</g>\r\n",
       "<!-- Gate 6&#45;&#45;Entrance 3 -->\r\n",
       "<g id=\"edge72\" class=\"edge\"><title>Gate 6&#45;&#45;Entrance 3</title>\r\n",
       "<path fill=\"none\" stroke=\"black\" d=\"M1943.67,-1427.21C1981.46,-1401.7 2048.57,-1356.41 2091.72,-1327.3\"/>\r\n",
       "</g>\r\n",
       "<!-- Ranger&#45;stop 7 -->\r\n",
       "<g id=\"node32\" class=\"node\"><title>Ranger&#45;stop 7</title>\r\n",
       "<ellipse fill=\"#b2dfee\" stroke=\"#b2dfee\" cx=\"2222.3\" cy=\"-1447.35\" rx=\"62.2891\" ry=\"62.2891\"/>\r\n",
       "<text text-anchor=\"middle\" x=\"2222.3\" y=\"-1443.65\" font-family=\"Times New Roman,serif\" font-size=\"14.00\">Ranger&#45;stop 7</text>\r\n",
       "</g>\r\n",
       "<!-- General&#45;gate 5&#45;&#45;Camping 8 -->\r\n",
       "<g id=\"edge98\" class=\"edge\"><title>General&#45;gate 5&#45;&#45;Camping 8</title>\r\n",
       "<path fill=\"none\" stroke=\"black\" d=\"M601.026,-1395.77C559.668,-1338.1 492.898,-1244.99 454.995,-1192.14\"/>\r\n",
       "</g>\r\n",
       "<!-- General&#45;gate 5&#45;&#45;Camping 6 -->\r\n",
       "<g id=\"edge104\" class=\"edge\"><title>General&#45;gate 5&#45;&#45;Camping 6</title>\r\n",
       "<path fill=\"none\" stroke=\"black\" d=\"M584.332,-1412.78C557.361,-1394.82 524.592,-1371.64 497.298,-1348.31 434.029,-1294.23 398.451,-1290.7 367.298,-1213.52 346.538,-1162.09 361.869,-1143.92 367.298,-1088.73 382.95,-929.586 417.96,-498.489 534.298,-388.775 534.783,-388.317 666.17,-344.108 739.011,-319.62\"/>\r\n",
       "</g>\r\n",
       "<!-- General&#45;gate 5&#45;&#45;Gate 8 -->\r\n",
       "<g id=\"edge105\" class=\"edge\"><title>General&#45;gate 5&#45;&#45;Gate 8</title>\r\n",
       "<path fill=\"none\" stroke=\"black\" d=\"M576.847,-1428.73C433.003,-1382.68 82.2978,-1244.39 82.2978,-990.685 82.2978,-990.685 82.2978,-990.685 82.2978,-437.821 82.2978,-354.849 55.9697,-318.649 106.298,-252.684 138.132,-210.959 199.674,-194.089 238.223,-187.422\"/>\r\n",
       "</g>\r\n",
       "<!-- General&#45;gate 5&#45;&#45;Gate 5 -->\r\n",
       "<g id=\"edge103\" class=\"edge\"><title>General&#45;gate 5&#45;&#45;Gate 5</title>\r\n",
       "<path fill=\"none\" stroke=\"black\" d=\"M690.306,-1413.22C717.196,-1395.38 749.703,-1372.17 776.298,-1348.31 887.864,-1248.19 1222.3,-992.144 1222.3,-842.245 1222.3,-842.245 1222.3,-842.245 1222.3,-720.402 1222.3,-630.471 1206.37,-525.303 1197.35,-472.947\"/>\r\n",
       "</g>\r\n",
       "<!-- General&#45;gate 5&#45;&#45;General&#45;gate 6 -->\r\n",
       "<g id=\"edge102\" class=\"edge\"><title>General&#45;gate 5&#45;&#45;General&#45;gate 6</title>\r\n",
       "<path fill=\"none\" stroke=\"black\" d=\"M615.712,-1387.74C583.049,-1290.9 528.573,-1091.81 565.298,-926.64 589.148,-819.376 650.839,-705.868 689.7,-641.56\"/>\r\n",
       "</g>\r\n",
       "<!-- General&#45;gate 5&#45;&#45;Entrance 2 -->\r\n",
       "<g id=\"edge100\" class=\"edge\"><title>General&#45;gate 5&#45;&#45;Entrance 2</title>\r\n",
       "<path fill=\"none\" stroke=\"black\" d=\"M664.824,-1390.52C700.46,-1319.29 765.468,-1192.83 828.298,-1088.73 873.569,-1013.72 932.102,-929.982 966.489,-881.959\"/>\r\n",
       "</g>\r\n",
       "<!-- General&#45;gate 5&#45;&#45;General&#45;gate 3 -->\r\n",
       "<g id=\"edge99\" class=\"edge\"><title>General&#45;gate 5&#45;&#45;General&#45;gate 3</title>\r\n",
       "<path fill=\"none\" stroke=\"black\" d=\"M637.298,-1383.95C637.298,-1296.93 637.298,-1140.07 637.298,-1053.06\"/>\r\n",
       "</g>\r\n",
       "<!-- General&#45;gate 5&#45;&#45;Gate 3 -->\r\n",
       "<g id=\"edge97\" class=\"edge\"><title>General&#45;gate 5&#45;&#45;Gate 3</title>\r\n",
       "<path fill=\"none\" stroke=\"black\" d=\"M697.939,-1429.28C758.314,-1411.57 853.147,-1381.81 932.298,-1348.31 954.088,-1339.09 977.73,-1326.75 995.724,-1316.84\"/>\r\n",
       "</g>\r\n",
       "<!-- General&#45;gate 5&#45;&#45;Gate 4 -->\r\n",
       "<g id=\"edge101\" class=\"edge\"><title>General&#45;gate 5&#45;&#45;Gate 4</title>\r\n",
       "<path fill=\"none\" stroke=\"black\" d=\"M680.734,-1401.1C695.673,-1384.87 712.181,-1366.16 726.298,-1348.31 813.065,-1238.58 822.678,-1202.34 904.298,-1088.73 968.575,-999.26 1009.32,-991.645 1053.3,-890.64 1072.49,-846.573 1079.4,-790.907 1081.9,-755.969\"/>\r\n",
       "</g>\r\n",
       "<!-- General&#45;gate 5&#45;&#45;Entrance 4 -->\r\n",
       "<g id=\"edge106\" class=\"edge\"><title>General&#45;gate 5&#45;&#45;Entrance 4</title>\r\n",
       "<path fill=\"none\" stroke=\"black\" d=\"M699.157,-1433.57C810.097,-1410.45 1034.51,-1362.74 1068.3,-1348.31 1213.1,-1286.44 1564.3,-999.712 1564.3,-842.245 1564.3,-842.245 1564.3,-842.245 1564.3,-301.73 1564.3,-280.126 1522.13,-182.732 1486.3,-147.79 1446.59,-109.063 1387.19,-84.1599 1345.82,-70.3898\"/>\r\n",
       "</g>\r\n",
       "<!-- Entrance 1 -->\r\n",
       "<g id=\"node34\" class=\"node\"><title>Entrance 1</title>\r\n",
       "<ellipse fill=\"#b2dfee\" stroke=\"#b2dfee\" cx=\"1200.3\" cy=\"-2554.03\" rx=\"49.2915\" ry=\"49.2915\"/>\r\n",
       "<text text-anchor=\"middle\" x=\"1200.3\" y=\"-2550.33\" font-family=\"Times New Roman,serif\" font-size=\"14.00\">Entrance 1</text>\r\n",
       "</g>\r\n",
       "<!-- Entrance 1&#45;&#45;Camping 8 -->\r\n",
       "<g id=\"edge6\" class=\"edge\"><title>Entrance 1&#45;&#45;Camping 8</title>\r\n",
       "<path fill=\"none\" stroke=\"black\" d=\"M1151.09,-2548.77C944.546,-2529.56 158.298,-2442.61 158.298,-2232.15 158.298,-2232.15 158.298,-2232.15 158.298,-1906.62 158.298,-1601.61 221.453,-1523.11 356.298,-1249.52 366.608,-1228.6 381.295,-1207.34 394.556,-1190.05\"/>\r\n",
       "</g>\r\n",
       "<!-- Entrance 1&#45;&#45;Camping 4 -->\r\n",
       "<g id=\"edge3\" class=\"edge\"><title>Entrance 1&#45;&#45;Camping 4</title>\r\n",
       "<path fill=\"none\" stroke=\"black\" d=\"M1182.37,-2507.73C1158.27,-2446.84 1115.65,-2339.17 1091.44,-2277.99\"/>\r\n",
       "</g>\r\n",
       "<!-- Entrance 1&#45;&#45;Camping 3 -->\r\n",
       "<g id=\"edge5\" class=\"edge\"><title>Entrance 1&#45;&#45;Camping 3</title>\r\n",
       "<path fill=\"none\" stroke=\"black\" d=\"M1161.19,-2523.38C1107.18,-2479.82 1011.83,-2392.84 971.298,-2293.54 948.297,-2237.2 948.243,-2166.16 951.64,-2119.63\"/>\r\n",
       "</g>\r\n",
       "<!-- Entrance 1&#45;&#45;Gate 1 -->\r\n",
       "<g id=\"edge7\" class=\"edge\"><title>Entrance 1&#45;&#45;Gate 1</title>\r\n",
       "<path fill=\"none\" stroke=\"black\" d=\"M1231.84,-2515.44C1240.18,-2506.91 1249.59,-2498.38 1259.3,-2491.63 1292.32,-2468.69 1310.52,-2480.27 1342.3,-2455.63 1414.4,-2399.72 1438.7,-2379.85 1468.3,-2293.54 1490.94,-2227.51 1465.97,-2145.23 1448.77,-2101.46\"/>\r\n",
       "</g>\r\n",
       "<!-- Entrance 1&#45;&#45;Camping 2 -->\r\n",
       "<g id=\"edge2\" class=\"edge\"><title>Entrance 1&#45;&#45;Camping 2</title>\r\n",
       "<path fill=\"none\" stroke=\"black\" d=\"M1234.04,-2517.83C1257.88,-2492.81 1286.43,-2462.47 1291.3,-2455.63 1332.39,-2397.91 1368.6,-2324.07 1389.73,-2277.43\"/>\r\n",
       "</g>\r\n",
       "<!-- Entrance 1&#45;&#45;Gate 2 -->\r\n",
       "<g id=\"edge1\" class=\"edge\"><title>Entrance 1&#45;&#45;Gate 2</title>\r\n",
       "<path fill=\"none\" stroke=\"black\" d=\"M1214.31,-2506.48C1222.11,-2480.56 1231.63,-2448.95 1238.61,-2425.77\"/>\r\n",
       "</g>\r\n",
       "<!-- Entrance 1&#45;&#45;General&#45;gate 7 -->\r\n",
       "<g id=\"edge4\" class=\"edge\"><title>Entrance 1&#45;&#45;General&#45;gate 7</title>\r\n",
       "<path fill=\"none\" stroke=\"black\" d=\"M1230.42,-2514.81C1238.92,-2506.08 1248.76,-2497.63 1259.3,-2491.63 1320.38,-2456.86 1353.22,-2492.12 1413.3,-2455.63 1556.85,-2368.45 1532.7,-2279.13 1659.3,-2168.76 1772.48,-2070.08 1926.23,-1981.56 2007.55,-1937.7\"/>\r\n",
       "</g>\r\n",
       "<!-- Gate 7&#45;&#45;Entrance 3 -->\r\n",
       "<g id=\"edge57\" class=\"edge\"><title>Gate 7&#45;&#45;Entrance 3</title>\r\n",
       "<path fill=\"none\" stroke=\"black\" d=\"M2167.04,-1564.01C2161.36,-1548.16 2155.05,-1528.51 2151.3,-1510.4 2139.96,-1455.6 2135.39,-1391.4 2133.54,-1348.44\"/>\r\n",
       "</g>\r\n",
       "<!-- Gate 7&#45;&#45;Gate 6 -->\r\n",
       "<g id=\"edge56\" class=\"edge\"><title>Gate 7&#45;&#45;Gate 6</title>\r\n",
       "<path fill=\"none\" stroke=\"black\" d=\"M2149.53,-1578.86C2098.69,-1550.53 1995.72,-1493.16 1944.96,-1464.88\"/>\r\n",
       "</g>\r\n",
       "<!-- Gate 7&#45;&#45;Ranger&#45;stop 7 -->\r\n",
       "<g id=\"edge55\" class=\"edge\"><title>Gate 7&#45;&#45;Ranger&#45;stop 7</title>\r\n",
       "<path fill=\"none\" stroke=\"red\" stroke-width=\"10\" d=\"M2188.73,-1563.16C2193.51,-1546.84 2199.45,-1526.51 2205,-1507.51\"/>\r\n",
       "</g>\r\n",
       "<!-- Ranger&#45;stop 3 -->\r\n",
       "<g id=\"node38\" class=\"node\"><title>Ranger&#45;stop 3</title>\r\n",
       "<ellipse fill=\"#b2dfee\" stroke=\"#b2dfee\" cx=\"1009.3\" cy=\"-1447.35\" rx=\"62.2891\" ry=\"62.2891\"/>\r\n",
       "<text text-anchor=\"middle\" x=\"1009.3\" y=\"-1443.65\" font-family=\"Times New Roman,serif\" font-size=\"14.00\">Ranger&#45;stop 3</text>\r\n",
       "</g>\r\n",
       "<!-- Ranger&#45;stop 3&#45;&#45;Gate 3 -->\r\n",
       "<g id=\"edge107\" class=\"edge\"><title>Ranger&#45;stop 3&#45;&#45;Gate 3</title>\r\n",
       "<path fill=\"none\" stroke=\"red\" stroke-width=\"10\" d=\"M1015.99,-1385.1C1017.93,-1367.39 1019.97,-1348.71 1021.64,-1333.38\"/>\r\n",
       "</g>\r\n",
       "<!-- Camping 1&#45;&#45;Camping 8 -->\r\n",
       "<g id=\"edge87\" class=\"edge\"><title>Camping 1&#45;&#45;Camping 8</title>\r\n",
       "<path fill=\"none\" stroke=\"black\" d=\"M791.233,-1592.58C730.634,-1586.58 628.831,-1567.97 565.298,-1510.4 474.085,-1427.74 442.149,-1278.13 431.424,-1201.01\"/>\r\n",
       "</g>\r\n",
       "<!-- Camping 1&#45;&#45;Camping 6 -->\r\n",
       "<g id=\"edge93\" class=\"edge\"><title>Camping 1&#45;&#45;Camping 6</title>\r\n",
       "<path fill=\"none\" stroke=\"black\" d=\"M791.243,-1595.54C716.412,-1593.26 574.055,-1579.32 479.298,-1510.4 363.381,-1426.08 367.951,-1356.11 353.298,-1213.52 334.374,-1029.38 335.344,-515.478 470.298,-388.775 543.817,-319.751 667.302,-305.558 736.12,-303.345\"/>\r\n",
       "</g>\r\n",
       "<!-- Camping 1&#45;&#45;Gate 8 -->\r\n",
       "<g id=\"edge94\" class=\"edge\"><title>Camping 1&#45;&#45;Gate 8</title>\r\n",
       "<path fill=\"none\" stroke=\"black\" d=\"M790.968,-1596.37C701.649,-1595.9 511.975,-1585.27 375.298,-1510.4 135.124,-1378.82 44.2978,-1264.54 44.2978,-990.685 44.2978,-990.685 44.2978,-990.685 44.2978,-437.821 44.2978,-354.602 19.1117,-316.689 72.2978,-252.684 113.525,-203.071 192.221,-188.844 237.636,-184.802\"/>\r\n",
       "</g>\r\n",
       "<!-- Camping 1&#45;&#45;Gate 5 -->\r\n",
       "<g id=\"edge92\" class=\"edge\"><title>Camping 1&#45;&#45;Gate 5</title>\r\n",
       "<path fill=\"none\" stroke=\"black\" d=\"M891.453,-1594.08C954.378,-1589.66 1061.73,-1572.74 1125.3,-1510.4 1191.34,-1445.63 1336.3,-1266.5 1336.3,-842.245 1336.3,-842.245 1336.3,-842.245 1336.3,-720.402 1336.3,-627.482 1310.41,-604.362 1262.3,-524.866 1251.21,-506.552 1244.08,-505.25 1230.3,-488.866 1224.28,-481.706 1217.9,-473.821 1212.08,-466.507\"/>\r\n",
       "</g>\r\n",
       "<!-- Camping 1&#45;&#45;General&#45;gate 6 -->\r\n",
       "<g id=\"edge91\" class=\"edge\"><title>Camping 1&#45;&#45;General&#45;gate 6</title>\r\n",
       "<path fill=\"none\" stroke=\"black\" d=\"M834.372,-1546.66C824.164,-1474.1 804.729,-1333.4 790.298,-1213.52 765.532,-1007.79 740.622,-763.378 729.423,-651.029\"/>\r\n",
       "</g>\r\n",
       "<!-- Camping 1&#45;&#45;Entrance 2 -->\r\n",
       "<g id=\"edge88\" class=\"edge\"><title>Camping 1&#45;&#45;Entrance 2</title>\r\n",
       "<path fill=\"none\" stroke=\"black\" d=\"M846.739,-1546.61C851.823,-1503.69 860.143,-1439.62 870.298,-1384.31 904.174,-1199.79 958.61,-983.193 982.901,-889.438\"/>\r\n",
       "</g>\r\n",
       "<!-- Camping 1&#45;&#45;General&#45;gate 3 -->\r\n",
       "<g id=\"edge96\" class=\"edge\"><title>Camping 1&#45;&#45;General&#45;gate 3</title>\r\n",
       "<path fill=\"none\" stroke=\"black\" d=\"M801.018,-1565.95C783.544,-1551.15 764.359,-1531.81 752.298,-1510.4 708.139,-1431.99 664.613,-1172.11 646.313,-1052.24\"/>\r\n",
       "</g>\r\n",
       "<!-- Camping 1&#45;&#45;Gate 3 -->\r\n",
       "<g id=\"edge86\" class=\"edge\"><title>Camping 1&#45;&#45;Gate 3</title>\r\n",
       "<path fill=\"none\" stroke=\"black\" d=\"M857.033,-1548.76C873.349,-1504.14 901.609,-1436.18 938.298,-1384.31 947.716,-1370.99 977.623,-1342.86 999.755,-1322.74\"/>\r\n",
       "</g>\r\n",
       "<!-- Camping 1&#45;&#45;Gate 4 -->\r\n",
       "<g id=\"edge90\" class=\"edge\"><title>Camping 1&#45;&#45;Gate 4</title>\r\n",
       "<path fill=\"none\" stroke=\"black\" d=\"M891.247,-1593.26C947.363,-1587.85 1036.33,-1569.77 1080.3,-1510.4 1257.58,-1270.99 1135.44,-868.745 1094.99,-753.886\"/>\r\n",
       "</g>\r\n",
       "<!-- Camping 1&#45;&#45;General&#45;gate 5 -->\r\n",
       "<g id=\"edge89\" class=\"edge\"><title>Camping 1&#45;&#45;General&#45;gate 5</title>\r\n",
       "<path fill=\"none\" stroke=\"black\" d=\"M799.482,-1568.77C774.403,-1552.45 742.087,-1530.84 714.298,-1510.4 704.894,-1503.48 695.052,-1495.86 685.67,-1488.4\"/>\r\n",
       "</g>\r\n",
       "<!-- Camping 1&#45;&#45;Entrance 4 -->\r\n",
       "<g id=\"edge95\" class=\"edge\"><title>Camping 1&#45;&#45;Entrance 4</title>\r\n",
       "<path fill=\"none\" stroke=\"black\" d=\"M891.417,-1593.9C962.789,-1589.47 1095.14,-1572.72 1186.3,-1510.4 1454.76,-1326.85 1489.31,-1204.28 1575.3,-890.64 1628.82,-695.408 1640.3,-642.257 1640.3,-439.821 1640.3,-439.821 1640.3,-439.821 1640.3,-301.73 1640.3,-158.972 1440.85,-91.4683 1346.57,-67.5352\"/>\r\n",
       "</g>\r\n",
       "<!-- Entrance 0 -->\r\n",
       "<g id=\"node41\" class=\"node\"><title>Entrance 0</title>\r\n",
       "<ellipse fill=\"#b2dfee\" stroke=\"#b2dfee\" cx=\"2078.3\" cy=\"-2554.03\" rx=\"49.2915\" ry=\"49.2915\"/>\r\n",
       "<text text-anchor=\"middle\" x=\"2078.3\" y=\"-2550.33\" font-family=\"Times New Roman,serif\" font-size=\"14.00\">Entrance 0</text>\r\n",
       "</g>\r\n",
       "<!-- Entrance 0&#45;&#45;Ranger&#45;stop 2 -->\r\n",
       "<g id=\"edge30\" class=\"edge\"><title>Entrance 0&#45;&#45;Ranger&#45;stop 2</title>\r\n",
       "<path fill=\"none\" stroke=\"black\" d=\"M2029.21,-2548.31C1968.79,-2539.95 1866.81,-2517.12 1806.3,-2455.63 1763.32,-2411.96 1744.62,-2343.08 1736.5,-2293.33\"/>\r\n",
       "</g>\r\n",
       "<!-- Entrance 0&#45;&#45;General&#45;gate 4 -->\r\n",
       "<g id=\"edge25\" class=\"edge\"><title>Entrance 0&#45;&#45;General&#45;gate 4</title>\r\n",
       "<path fill=\"none\" stroke=\"black\" d=\"M2036.56,-2527.55C2011.38,-2510.18 1980.56,-2485.04 1961.3,-2455.63 1904.63,-2369.1 1896.3,-2335.59 1896.3,-2232.15 1896.3,-2232.15 1896.3,-2232.15 1896.3,-2068.71 1896.3,-1967.19 1952.18,-1859.73 1990.39,-1798.14\"/>\r\n",
       "</g>\r\n",
       "<!-- Entrance 0&#45;&#45;General&#45;gate 1 -->\r\n",
       "<g id=\"edge23\" class=\"edge\"><title>Entrance 0&#45;&#45;General&#45;gate 1</title>\r\n",
       "<path fill=\"none\" stroke=\"black\" d=\"M2065.04,-2506.05C2060.4,-2489.61 2055.12,-2470.92 2050.22,-2453.56\"/>\r\n",
       "</g>\r\n",
       "<!-- Entrance 0&#45;&#45;Gate 0 -->\r\n",
       "<g id=\"edge24\" class=\"edge\"><title>Entrance 0&#45;&#45;Gate 0</title>\r\n",
       "<path fill=\"none\" stroke=\"black\" d=\"M2093.59,-2506.96C2098.24,-2490.9 2102.79,-2472.64 2105.3,-2455.63 2115.15,-2388.83 2113.92,-2309.59 2112.12,-2265.69\"/>\r\n",
       "</g>\r\n",
       "<!-- Entrance 0&#45;&#45;General&#45;gate 7 -->\r\n",
       "<g id=\"edge26\" class=\"edge\"><title>Entrance 0&#45;&#45;General&#45;gate 7</title>\r\n",
       "<path fill=\"none\" stroke=\"black\" d=\"M2101.67,-2509.91C2109.85,-2493.33 2118.44,-2473.98 2124.3,-2455.63 2163.29,-2333.56 2173.11,-2295.37 2153.3,-2168.76 2141.94,-2096.16 2111.76,-2016.94 2089.47,-1965.23\"/>\r\n",
       "</g>\r\n",
       "<!-- Entrance 0&#45;&#45;Entrance 3 -->\r\n",
       "<g id=\"edge29\" class=\"edge\"><title>Entrance 0&#45;&#45;Entrance 3</title>\r\n",
       "<path fill=\"none\" stroke=\"black\" d=\"M2123.41,-2533.74C2212.03,-2492.48 2400.3,-2386.64 2400.3,-2232.15 2400.3,-2232.15 2400.3,-2232.15 2400.3,-1595.44 2400.3,-1499.4 2416.97,-1457.08 2354.3,-1384.31 2310.44,-1333.38 2232.43,-1313.09 2181.54,-1305.07\"/>\r\n",
       "</g>\r\n",
       "<!-- Entrance 0&#45;&#45;Gate 6 -->\r\n",
       "<g id=\"edge28\" class=\"edge\"><title>Entrance 0&#45;&#45;Gate 6</title>\r\n",
       "<path fill=\"none\" stroke=\"black\" d=\"M2031.35,-2538.27C1991.13,-2523.39 1934.31,-2496.68 1899.3,-2455.63 1830.94,-2375.48 1820.3,-2337.5 1820.3,-2232.15 1820.3,-2232.15 1820.3,-2232.15 1820.3,-1744.53 1820.3,-1654.42 1832.34,-1631.02 1863.3,-1546.4 1872.23,-1521.97 1886.21,-1496.04 1897.42,-1476.99\"/>\r\n",
       "</g>\r\n",
       "<!-- Entrance 0&#45;&#45;Gate 7 -->\r\n",
       "<g id=\"edge27\" class=\"edge\"><title>Entrance 0&#45;&#45;Gate 7</title>\r\n",
       "<path fill=\"none\" stroke=\"black\" d=\"M2111.39,-2516.97C2126.41,-2499.36 2143.62,-2477.33 2156.3,-2455.63 2234.37,-2322.08 2256.87,-2284.63 2286.3,-2132.76 2324.49,-1935.63 2337.82,-1862.72 2249.3,-1682.49 2237.92,-1659.32 2219.07,-1636.93 2203.8,-1620.95\"/>\r\n",
       "</g>\r\n",
       "</g>\r\n",
       "</svg>\r\n"
      ],
      "text/plain": [
       "<graphviz.dot.Graph at 0x1f551123048>"
      ]
     },
     "execution_count": 22,
     "metadata": {},
     "output_type": "execute_result"
    }
   ],
   "source": [
    "import os\n",
    "os.environ[\"PATH\"] += os.pathsep + 'C:/Program Files (x86)/Graphviz2.38/bin/'\n",
    "\n",
    "graph = graphviz.Graph()\n",
    "graph.attr(size='13,10')\n",
    "graph.node_attr.update(color='lightblue2', style='filled', shape='circle')\n",
    "locations = set()\n",
    "for _, row in roads.iterrows():\n",
    "    locations.add(row[0])\n",
    "    locations.add(row[1])\n",
    "for location in locations:\n",
    "    graph.node(location)\n",
    "for _, row in roads.iterrows():\n",
    "    if row['restricted'] == 'True':\n",
    "        graph.edge(row[0],row[1], color='red', penwidth='10')\n",
    "    else:\n",
    "        graph.edge(row[0],row[1])\n",
    "graph\n",
    "       "
   ]
  },
  {
   "cell_type": "markdown",
   "metadata": {},
   "source": [
    "<p>Althogh being a little cluttered, this visualization enables us to spot quickly if a road is restricted (can only be acessed through gates) or not and might prove useful in our investigation process.</p>"
   ]
  },
  {
   "cell_type": "markdown",
   "metadata": {
    "collapsed": true
   },
   "source": [
    "<p>In fact, when we observe the graph visualization, it becomes clear that there are some sensors that can only be reached by passing through a gate, and therefore, should be only activated by rangers cars. We then direct our attention to the traffic activity at these areas. The sensors we'll investigate corresponds, in the visualization, to those that are only connected to the graph by red edges (restricted roads); They are:</p>\n"
   ]
  },
  {
   "cell_type": "markdown",
   "metadata": {},
   "source": [
    "<ul>\n",
    "    <li>Ranger-base</li>\n",
    "    <li>ranger-stop 1</li>\n",
    "    <li>ranger-stop 3</li>\n",
    "    <li>ranger-stop 5</li>\n",
    "    <li>ranger-stop 6</li>\n",
    "    <li>ranger-stop 7</li>\n",
    "</ul>"
   ]
  },
  {
   "cell_type": "code",
   "execution_count": 23,
   "metadata": {},
   "outputs": [
    {
     "data": {
      "text/plain": [
       "False    147922\n",
       "Name: gate-name, dtype: int64"
      ]
     },
     "execution_count": 23,
     "metadata": {},
     "output_type": "execute_result"
    }
   ],
   "source": [
    "forbidden = set(['Ranger-base', 'ranger-stop 1', 'ranger-stop 3', 'ranger-stop 5', 'ranger-stop 6', 'ranger-stop 7'])\n",
    "without_rangers = raw_dataset.reindex(columns=['car-type','gate-name'])\n",
    "without_rangers = without_rangers[without_rangers['car-type'] != '2P']\n",
    "trespassers = without_rangers['gate-name'].isin(forbidden).value_counts()\n",
    "trespassers"
   ]
  },
  {
   "cell_type": "markdown",
   "metadata": {
    "collapsed": true
   },
   "source": [
    "<p>And, to our sadness, we discover that there are no trespassing vehicles in the restricted areas.</p>"
   ]
  },
  {
   "cell_type": "markdown",
   "metadata": {},
   "source": [
    "<h3>5. Time Distributions Analysis</h3>\n",
    "\n"
   ]
  },
  {
   "cell_type": "markdown",
   "metadata": {
    "collapsed": true
   },
   "source": [
    "<p>A time distribution of our data entries could be useful for revealing inconsistent datums and to give a general spectre of the traffic volume over the data collection time.</p> "
   ]
  },
  {
   "cell_type": "markdown",
   "metadata": {},
   "source": [
    "We start by extracting the year, month and day of each sensor entry:"
   ]
  },
  {
   "cell_type": "code",
   "execution_count": 8,
   "metadata": {},
   "outputs": [
    {
     "data": {
      "text/html": [
       "<div>\n",
       "<style>\n",
       "    .dataframe thead tr:only-child th {\n",
       "        text-align: right;\n",
       "    }\n",
       "\n",
       "    .dataframe thead th {\n",
       "        text-align: left;\n",
       "    }\n",
       "\n",
       "    .dataframe tbody tr th {\n",
       "        vertical-align: top;\n",
       "    }\n",
       "</style>\n",
       "<table border=\"1\" class=\"dataframe\">\n",
       "  <thead>\n",
       "    <tr style=\"text-align: right;\">\n",
       "      <th></th>\n",
       "      <th>Timestamp</th>\n",
       "      <th>car-id</th>\n",
       "      <th>car-type</th>\n",
       "      <th>gate-name</th>\n",
       "      <th>year</th>\n",
       "      <th>month</th>\n",
       "      <th>hour</th>\n",
       "    </tr>\n",
       "  </thead>\n",
       "  <tbody>\n",
       "    <tr>\n",
       "      <th>0</th>\n",
       "      <td>2015-05-01 00:43:28</td>\n",
       "      <td>20154301124328-262</td>\n",
       "      <td>4</td>\n",
       "      <td>entrance3</td>\n",
       "      <td>2015</td>\n",
       "      <td>5</td>\n",
       "      <td>0</td>\n",
       "    </tr>\n",
       "    <tr>\n",
       "      <th>1</th>\n",
       "      <td>2015-05-01 01:03:48</td>\n",
       "      <td>20154301124328-262</td>\n",
       "      <td>4</td>\n",
       "      <td>general-gate1</td>\n",
       "      <td>2015</td>\n",
       "      <td>5</td>\n",
       "      <td>1</td>\n",
       "    </tr>\n",
       "    <tr>\n",
       "      <th>2</th>\n",
       "      <td>2015-05-01 01:06:24</td>\n",
       "      <td>20154301124328-262</td>\n",
       "      <td>4</td>\n",
       "      <td>ranger-stop2</td>\n",
       "      <td>2015</td>\n",
       "      <td>5</td>\n",
       "      <td>1</td>\n",
       "    </tr>\n",
       "    <tr>\n",
       "      <th>3</th>\n",
       "      <td>2015-05-01 01:09:25</td>\n",
       "      <td>20154301124328-262</td>\n",
       "      <td>4</td>\n",
       "      <td>ranger-stop0</td>\n",
       "      <td>2015</td>\n",
       "      <td>5</td>\n",
       "      <td>1</td>\n",
       "    </tr>\n",
       "    <tr>\n",
       "      <th>4</th>\n",
       "      <td>2015-05-01 01:12:36</td>\n",
       "      <td>20154301124328-262</td>\n",
       "      <td>4</td>\n",
       "      <td>general-gate2</td>\n",
       "      <td>2015</td>\n",
       "      <td>5</td>\n",
       "      <td>1</td>\n",
       "    </tr>\n",
       "  </tbody>\n",
       "</table>\n",
       "</div>"
      ],
      "text/plain": [
       "            Timestamp              car-id car-type      gate-name  year  \\\n",
       "0 2015-05-01 00:43:28  20154301124328-262        4      entrance3  2015   \n",
       "1 2015-05-01 01:03:48  20154301124328-262        4  general-gate1  2015   \n",
       "2 2015-05-01 01:06:24  20154301124328-262        4   ranger-stop2  2015   \n",
       "3 2015-05-01 01:09:25  20154301124328-262        4   ranger-stop0  2015   \n",
       "4 2015-05-01 01:12:36  20154301124328-262        4  general-gate2  2015   \n",
       "\n",
       "   month  hour  \n",
       "0      5     0  \n",
       "1      5     1  \n",
       "2      5     1  \n",
       "3      5     1  \n",
       "4      5     1  "
      ]
     },
     "execution_count": 8,
     "metadata": {},
     "output_type": "execute_result"
    }
   ],
   "source": [
    "time_data = raw_dataset\n",
    "\n",
    "time_data['year'] = pd.DatetimeIndex(raw_dataset['Timestamp']).year\n",
    "time_data['month'] = pd.DatetimeIndex(raw_dataset['Timestamp']).month\n",
    "time_data['hour'] = pd.DatetimeIndex(raw_dataset['Timestamp']).hour\n",
    "\n",
    "time_data.head()"
   ]
  },
  {
   "cell_type": "markdown",
   "metadata": {},
   "source": [
    "<p>Then, immediatly we can see the years of data collection: </p>"
   ]
  },
  {
   "cell_type": "code",
   "execution_count": 9,
   "metadata": {},
   "outputs": [
    {
     "data": {
      "image/png": "[encoded data removed]",
      "text/plain": [
       "<matplotlib.figure.Figure at 0x1f554322128>"
      ]
     },
     "metadata": {},
     "output_type": "display_data"
    }
   ],
   "source": [
    "fig, ax = plt.subplots()\n",
    "ax.hist(time_data['year'], bins=2, ec='k', color='#0C77AD')\n",
    "ax.set_title('Year distribution')\n",
    "ax.set_xlabel('Year')\n",
    "ax.set_ylabel('Events Count')\n",
    "ax.set_xticks(range(2015, 2017, 1))\n",
    "ax.set_xlim(range(2015, 2017, 1))\n",
    "ax.get_children()[1].set_color('#54BEB4')\n",
    "plt.show()\n"
   ]
  },
  {
   "cell_type": "markdown",
   "metadata": {},
   "source": [
    "<p>And learn that the majority of the data was collected at 2015.</p>"
   ]
  },
  {
   "cell_type": "markdown",
   "metadata": {},
   "source": [
    "<p>This led us to a question: is there available info about an entire year so we can see the distribution of the traffic inside the reserve in the period of twelve months?</p>"
   ]
  },
  {
   "cell_type": "code",
   "execution_count": 10,
   "metadata": {},
   "outputs": [
    {
     "data": {
      "text/html": [
       "<div>\n",
       "<style>\n",
       "    .dataframe thead tr:only-child th {\n",
       "        text-align: right;\n",
       "    }\n",
       "\n",
       "    .dataframe thead th {\n",
       "        text-align: left;\n",
       "    }\n",
       "\n",
       "    .dataframe tbody tr th {\n",
       "        vertical-align: top;\n",
       "    }\n",
       "</style>\n",
       "<table border=\"1\" class=\"dataframe\">\n",
       "  <thead>\n",
       "    <tr style=\"text-align: right;\">\n",
       "      <th></th>\n",
       "      <th>Timestamp</th>\n",
       "    </tr>\n",
       "    <tr>\n",
       "      <th>month</th>\n",
       "      <th></th>\n",
       "    </tr>\n",
       "  </thead>\n",
       "  <tbody>\n",
       "    <tr>\n",
       "      <th>5</th>\n",
       "      <td>10561</td>\n",
       "    </tr>\n",
       "    <tr>\n",
       "      <th>6</th>\n",
       "      <td>25279</td>\n",
       "    </tr>\n",
       "    <tr>\n",
       "      <th>7</th>\n",
       "      <td>39518</td>\n",
       "    </tr>\n",
       "    <tr>\n",
       "      <th>8</th>\n",
       "      <td>31845</td>\n",
       "    </tr>\n",
       "    <tr>\n",
       "      <th>9</th>\n",
       "      <td>22907</td>\n",
       "    </tr>\n",
       "    <tr>\n",
       "      <th>10</th>\n",
       "      <td>8108</td>\n",
       "    </tr>\n",
       "    <tr>\n",
       "      <th>11</th>\n",
       "      <td>3816</td>\n",
       "    </tr>\n",
       "    <tr>\n",
       "      <th>12</th>\n",
       "      <td>2834</td>\n",
       "    </tr>\n",
       "  </tbody>\n",
       "</table>\n",
       "</div>"
      ],
      "text/plain": [
       "       Timestamp\n",
       "month           \n",
       "5          10561\n",
       "6          25279\n",
       "7          39518\n",
       "8          31845\n",
       "9          22907\n",
       "10          8108\n",
       "11          3816\n",
       "12          2834"
      ]
     },
     "execution_count": 10,
     "metadata": {},
     "output_type": "execute_result"
    }
   ],
   "source": [
    "first_year_data = time_data[time_data.year == 2015]\n",
    "first_year_data = first_year_data.groupby('month').count().sort_index().reindex(columns=['Timestamp'])\n",
    "first_year_data"
   ]
  },
  {
   "cell_type": "code",
   "execution_count": 11,
   "metadata": {},
   "outputs": [
    {
     "data": {
      "text/html": [
       "<div>\n",
       "<style>\n",
       "    .dataframe thead tr:only-child th {\n",
       "        text-align: right;\n",
       "    }\n",
       "\n",
       "    .dataframe thead th {\n",
       "        text-align: left;\n",
       "    }\n",
       "\n",
       "    .dataframe tbody tr th {\n",
       "        vertical-align: top;\n",
       "    }\n",
       "</style>\n",
       "<table border=\"1\" class=\"dataframe\">\n",
       "  <thead>\n",
       "    <tr style=\"text-align: right;\">\n",
       "      <th></th>\n",
       "      <th>Timestamp</th>\n",
       "    </tr>\n",
       "    <tr>\n",
       "      <th>month</th>\n",
       "      <th></th>\n",
       "    </tr>\n",
       "  </thead>\n",
       "  <tbody>\n",
       "    <tr>\n",
       "      <th>1</th>\n",
       "      <td>2971</td>\n",
       "    </tr>\n",
       "    <tr>\n",
       "      <th>2</th>\n",
       "      <td>4090</td>\n",
       "    </tr>\n",
       "    <tr>\n",
       "      <th>3</th>\n",
       "      <td>4455</td>\n",
       "    </tr>\n",
       "    <tr>\n",
       "      <th>4</th>\n",
       "      <td>4538</td>\n",
       "    </tr>\n",
       "    <tr>\n",
       "      <th>5</th>\n",
       "      <td>10555</td>\n",
       "    </tr>\n",
       "  </tbody>\n",
       "</table>\n",
       "</div>"
      ],
      "text/plain": [
       "       Timestamp\n",
       "month           \n",
       "1           2971\n",
       "2           4090\n",
       "3           4455\n",
       "4           4538\n",
       "5          10555"
      ]
     },
     "execution_count": 11,
     "metadata": {},
     "output_type": "execute_result"
    }
   ],
   "source": [
    "second_year_data = time_data[time_data.year == 2016]\n",
    "second_year_data = second_year_data.groupby('month').count().sort_index().reindex(columns=['Timestamp'])\n",
    "second_year_data"
   ]
  },
  {
   "cell_type": "markdown",
   "metadata": {},
   "source": [
    "<p>Unfortunaly no, but with a little trick we can see relevant data about the traffic distribution along an entire year. Since the only intersection between months is May, and even more, both events counts for the month are really close, we can substitute the month value in an entire year series for the media of this month.</p>"
   ]
  },
  {
   "cell_type": "code",
   "execution_count": 12,
   "metadata": {},
   "outputs": [
    {
     "data": {
      "text/plain": [
       "10558"
      ]
     },
     "execution_count": 12,
     "metadata": {},
     "output_type": "execute_result"
    }
   ],
   "source": [
    "may_mean = int(round((first_year_data.loc[5]['Timestamp'] + second_year_data.loc[5]['Timestamp']) / 2))\n",
    "may_mean"
   ]
  },
  {
   "cell_type": "code",
   "execution_count": 13,
   "metadata": {},
   "outputs": [],
   "source": [
    "whole_year = pd.concat([first_year_data.drop(5), second_year_data.drop(5)])\n",
    "whole_year = whole_year.reindex(columns=['Timestamp'])\n",
    "whole_year.loc[5] = may_mean\n",
    "whole_year = whole_year.sort_index()"
   ]
  },
  {
   "cell_type": "markdown",
   "metadata": {},
   "source": [
    "<p>And then we can finally plot the whole year sensor events distribution!</p>"
   ]
  },
  {
   "cell_type": "code",
   "execution_count": 14,
   "metadata": {},
   "outputs": [
    {
     "data": {
      "image/png": "[encoded data removed]",
      "text/plain": [
       "<matplotlib.figure.Figure at 0x1f553e567f0>"
      ]
     },
     "metadata": {},
     "output_type": "display_data"
    }
   ],
   "source": [
    "fig = sns.barplot(data=whole_year, x=whole_year.index, y=whole_year['Timestamp'])\n",
    "fig = sns.pointplot(x=whole_year.index, y=whole_year['Timestamp'])\n",
    "fig.axhline(whole_year['Timestamp'].mean(), color='#947EE5', linestyle='dashed', linewidth=2)\n",
    "fig.set(xlabel='Month', ylabel='Events detected')\n",
    "sns.plt.title('Traffic Volume Distribution By Month')\n",
    "\n",
    "plt.show()"
   ]
  },
  {
   "cell_type": "code",
   "execution_count": null,
   "metadata": {
    "collapsed": true
   },
   "outputs": [],
   "source": [
    "#Epoca reprodutiva, verao na europa"
   ]
  },
  {
   "cell_type": "markdown",
   "metadata": {},
   "source": [
    "<p>This denotes a tendency of more visitor coming to the park by the half of the year, between July and September. This raises another relevant question: <b>could the increase in the visitors volume in this period influence the reproductive habits of the birds?</b></p>"
   ]
  },
  {
   "cell_type": "markdown",
   "metadata": {},
   "source": [
    "<p>Then we proceed to visualize the distribution of sensor events along the hours of day. During which hours the traffic in the park peaks?</p>"
   ]
  },
  {
   "cell_type": "code",
   "execution_count": 15,
   "metadata": {},
   "outputs": [
    {
     "data": {
      "image/png": "[encoded data removed]",
      "text/plain": [
       "<matplotlib.figure.Figure at 0x1f55119c278>"
      ]
     },
     "metadata": {},
     "output_type": "display_data"
    }
   ],
   "source": [
    "hours_data = time_data.groupby('hour').count().sort_index()\n",
    "\n",
    "fig, ax = plt.subplots()\n",
    "ax.hist(time_data['hour'], bins = 24, ec='k', color='#0C77AD')\n",
    "ax.plot(hours_data.index, hours_data['Timestamp'], color='#58C994')\n",
    "ax.axhline(hours_data['Timestamp'].mean(), color='orange', linestyle='dashed', linewidth=2)\n",
    "ax.set_title('Traffic volume by hours')\n",
    "ax.set_xlabel('Hour')\n",
    "ax.set_ylabel('Events Count')\n",
    "ax.set_xticks(range(0, 24))\n",
    "\n",
    "\n",
    "\n",
    "plt.show()"
   ]
  },
  {
   "cell_type": "markdown",
   "metadata": {},
   "source": [
    "<p>And we see that the distribution of events by hours of the day behaves normally, peaking in the interval from 6am to 18pm.</p>"
   ]
  },
  {
   "cell_type": "markdown",
   "metadata": {},
   "source": [
    "<p>But wait! Even if the rate of visitors passing through the sensors raises in a aproppriate form, this doesn't mean that we can ignore that a a large numbers of events have been happenning at unusual hours.</p>"
   ]
  },
  {
   "cell_type": "code",
   "execution_count": 25,
   "metadata": {},
   "outputs": [
    {
     "data": {
      "image/png": "[encoded data removed]",
      "text/plain": [
       "<matplotlib.figure.Figure at 0x1f5514b9048>"
      ]
     },
     "metadata": {},
     "output_type": "display_data"
    }
   ],
   "source": [
    "strange_hours = hours_data.loc[0:5].append(hours_data.loc[23])\n",
    "\n",
    "fig = sns.barplot(strange_hours.index, strange_hours['Timestamp'])\n",
    "fig.set(xlabel='Hour', ylabel='Events count')\n",
    "sns.plt.title('Events registered at strange hours')\n",
    "\n",
    "plt.show()"
   ]
  },
  {
   "cell_type": "markdown",
   "metadata": {},
   "source": [
    "<p>If these were not made by rangers, it could mean illegal or habitat damaging activities happening during the night. Let's investigate...</p>"
   ]
  },
  {
   "cell_type": "code",
   "execution_count": 26,
   "metadata": {},
   "outputs": [
    {
     "data": {
      "text/html": [
       "<div>\n",
       "<style>\n",
       "    .dataframe thead tr:only-child th {\n",
       "        text-align: right;\n",
       "    }\n",
       "\n",
       "    .dataframe thead th {\n",
       "        text-align: left;\n",
       "    }\n",
       "\n",
       "    .dataframe tbody tr th {\n",
       "        vertical-align: top;\n",
       "    }\n",
       "</style>\n",
       "<table border=\"1\" class=\"dataframe\">\n",
       "  <thead>\n",
       "    <tr style=\"text-align: right;\">\n",
       "      <th></th>\n",
       "      <th>car-type</th>\n",
       "      <th>hour</th>\n",
       "      <th>car-id</th>\n",
       "      <th>Timestamp</th>\n",
       "      <th>gate-name</th>\n",
       "    </tr>\n",
       "  </thead>\n",
       "  <tbody>\n",
       "    <tr>\n",
       "      <th>0</th>\n",
       "      <td>4</td>\n",
       "      <td>0</td>\n",
       "      <td>20154301124328-262</td>\n",
       "      <td>2015-05-01 00:43:28</td>\n",
       "      <td>entrance3</td>\n",
       "    </tr>\n",
       "    <tr>\n",
       "      <th>1</th>\n",
       "      <td>4</td>\n",
       "      <td>1</td>\n",
       "      <td>20154301124328-262</td>\n",
       "      <td>2015-05-01 01:03:48</td>\n",
       "      <td>general-gate1</td>\n",
       "    </tr>\n",
       "    <tr>\n",
       "      <th>2</th>\n",
       "      <td>4</td>\n",
       "      <td>1</td>\n",
       "      <td>20154301124328-262</td>\n",
       "      <td>2015-05-01 01:06:24</td>\n",
       "      <td>ranger-stop2</td>\n",
       "    </tr>\n",
       "    <tr>\n",
       "      <th>3</th>\n",
       "      <td>4</td>\n",
       "      <td>1</td>\n",
       "      <td>20154301124328-262</td>\n",
       "      <td>2015-05-01 01:09:25</td>\n",
       "      <td>ranger-stop0</td>\n",
       "    </tr>\n",
       "    <tr>\n",
       "      <th>4</th>\n",
       "      <td>4</td>\n",
       "      <td>1</td>\n",
       "      <td>20154301124328-262</td>\n",
       "      <td>2015-05-01 01:12:36</td>\n",
       "      <td>general-gate2</td>\n",
       "    </tr>\n",
       "    <tr>\n",
       "      <th>5</th>\n",
       "      <td>4</td>\n",
       "      <td>1</td>\n",
       "      <td>20154301124328-262</td>\n",
       "      <td>2015-05-01 01:24:02</td>\n",
       "      <td>general-gate5</td>\n",
       "    </tr>\n",
       "    <tr>\n",
       "      <th>22</th>\n",
       "      <td>4</td>\n",
       "      <td>3</td>\n",
       "      <td>20155301025312-741</td>\n",
       "      <td>2015-05-01 03:23:26</td>\n",
       "      <td>ranger-stop0</td>\n",
       "    </tr>\n",
       "    <tr>\n",
       "      <th>23</th>\n",
       "      <td>4</td>\n",
       "      <td>3</td>\n",
       "      <td>20155201025212-846</td>\n",
       "      <td>2015-05-01 03:24:45</td>\n",
       "      <td>general-gate1</td>\n",
       "    </tr>\n",
       "  </tbody>\n",
       "</table>\n",
       "</div>"
      ],
      "text/plain": [
       "   car-type  hour              car-id           Timestamp      gate-name\n",
       "0         4     0  20154301124328-262 2015-05-01 00:43:28      entrance3\n",
       "1         4     1  20154301124328-262 2015-05-01 01:03:48  general-gate1\n",
       "2         4     1  20154301124328-262 2015-05-01 01:06:24   ranger-stop2\n",
       "3         4     1  20154301124328-262 2015-05-01 01:09:25   ranger-stop0\n",
       "4         4     1  20154301124328-262 2015-05-01 01:12:36  general-gate2\n",
       "5         4     1  20154301124328-262 2015-05-01 01:24:02  general-gate5\n",
       "22        4     3  20155301025312-741 2015-05-01 03:23:26   ranger-stop0\n",
       "23        4     3  20155201025212-846 2015-05-01 03:24:45  general-gate1"
      ]
     },
     "execution_count": 26,
     "metadata": {},
     "output_type": "execute_result"
    }
   ],
   "source": [
    "without_rangers = time_data.reindex(columns=['car-type','hour','car-id', 'Timestamp', 'gate-name'])[raw_dataset['car-type'] != '2P']\n",
    "strange = without_rangers.loc[0:5].append(without_rangers.loc[22:23])\n",
    "strange\n",
    "\n"
   ]
  },
  {
   "cell_type": "markdown",
   "metadata": {},
   "source": [
    "<p>And we find a four axis truck wandering through the park during the night. I bet he was up to no good."
   ]
  },
  {
   "cell_type": "markdown",
   "metadata": {},
   "source": [
    "<p>Besides that, what can we learn about the time spent inside the park? Does the visitants come for a quick visit or they spend a long time inside the dependencies?</p>"
   ]
  },
  {
   "cell_type": "code",
   "execution_count": 18,
   "metadata": {},
   "outputs": [
    {
     "data": {
      "text/plain": [
       "car-id\n",
       "20150001010009-284   1 days 06:47:47\n",
       "20150001050042-811   4 days 00:53:05\n",
       "20150001060025-421   0 days 00:32:18\n",
       "20150001070000-174   0 days 00:55:32\n",
       "20150001070006-104   5 days 13:54:03\n",
       "Name: Timestamp, dtype: timedelta64[ns]"
      ]
     },
     "execution_count": 18,
     "metadata": {},
     "output_type": "execute_result"
    }
   ],
   "source": [
    "time_delta = raw_dataset.groupby('car-id')['Timestamp'].max() - raw_dataset.groupby('car-id')['Timestamp'].min()\n",
    "time_delta.head()"
   ]
  }
 ],
 "metadata": {
  "kernelspec": {
   "display_name": "Python 3",
   "language": "python",
   "name": "python3"
  },
  "language_info": {
   "codemirror_mode": {
    "name": "ipython",
    "version": 3
   },
   "file_extension": ".py",
   "mimetype": "text/x-python",
   "name": "python",
   "nbconvert_exporter": "python",
   "pygments_lexer": "ipython3",
   "version": "3.6.1"
  }
 },
 "nbformat": 4,
 "nbformat_minor": 2
}
